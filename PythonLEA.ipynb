{
  "nbformat": 4,
  "nbformat_minor": 0,
  "metadata": {
    "colab": {
      "provenance": [],
      "collapsed_sections": [
        "XFzvfWjK2y0H",
        "EmmEFMiXBDce",
        "Er8cEsqOBt-i",
        "_zJz8rewCDk8"
      ]
    },
    "kernelspec": {
      "name": "python3",
      "display_name": "Python 3"
    },
    "language_info": {
      "name": "python"
    },
    "widgets": {
      "application/vnd.jupyter.widget-state+json": {
        "58915fa7fcd348cbb513fa40e868f724": {
          "model_module": "@jupyter-widgets/controls",
          "model_name": "VBoxModel",
          "model_module_version": "1.5.0",
          "state": {
            "_dom_classes": [
              "widget-interact"
            ],
            "_model_module": "@jupyter-widgets/controls",
            "_model_module_version": "1.5.0",
            "_model_name": "VBoxModel",
            "_view_count": null,
            "_view_module": "@jupyter-widgets/controls",
            "_view_module_version": "1.5.0",
            "_view_name": "VBoxView",
            "box_style": "",
            "children": [
              "IPY_MODEL_ceb155ebf72b4e38b001c5e758febd32",
              "IPY_MODEL_b5a145b2733d4c238a8113a59ad20152",
              "IPY_MODEL_45023b9145b94f24b363efd19f876ba6"
            ],
            "layout": "IPY_MODEL_e11df19afe1b436b87314503cb4f1b8f"
          }
        },
        "ceb155ebf72b4e38b001c5e758febd32": {
          "model_module": "@jupyter-widgets/controls",
          "model_name": "TextModel",
          "model_module_version": "1.5.0",
          "state": {
            "_dom_classes": [],
            "_model_module": "@jupyter-widgets/controls",
            "_model_module_version": "1.5.0",
            "_model_name": "TextModel",
            "_view_count": null,
            "_view_module": "@jupyter-widgets/controls",
            "_view_module_version": "1.5.0",
            "_view_name": "TextView",
            "continuous_update": true,
            "description": "response",
            "description_tooltip": null,
            "disabled": false,
            "layout": "IPY_MODEL_7b2b0031c56443a2a74fef12a76b2ac0",
            "placeholder": "​",
            "style": "IPY_MODEL_8e67606ced464989b8474ea4c26369d7",
            "value": "sigma_z"
          }
        },
        "b5a145b2733d4c238a8113a59ad20152": {
          "model_module": "@jupyter-widgets/controls",
          "model_name": "IntSliderModel",
          "model_module_version": "1.5.0",
          "state": {
            "_dom_classes": [],
            "_model_module": "@jupyter-widgets/controls",
            "_model_module_version": "1.5.0",
            "_model_name": "IntSliderModel",
            "_view_count": null,
            "_view_module": "@jupyter-widgets/controls",
            "_view_module_version": "1.5.0",
            "_view_name": "IntSliderView",
            "continuous_update": true,
            "description": "xx",
            "description_tooltip": null,
            "disabled": false,
            "layout": "IPY_MODEL_a2d34b1b265943af9cb4d00b93242a3a",
            "max": 29,
            "min": 0,
            "orientation": "horizontal",
            "readout": true,
            "readout_format": "d",
            "step": 1,
            "style": "IPY_MODEL_1f313438ca844a88ba3daf161250549e",
            "value": 10
          }
        },
        "45023b9145b94f24b363efd19f876ba6": {
          "model_module": "@jupyter-widgets/output",
          "model_name": "OutputModel",
          "model_module_version": "1.0.0",
          "state": {
            "_dom_classes": [],
            "_model_module": "@jupyter-widgets/output",
            "_model_module_version": "1.0.0",
            "_model_name": "OutputModel",
            "_view_count": null,
            "_view_module": "@jupyter-widgets/output",
            "_view_module_version": "1.0.0",
            "_view_name": "OutputView",
            "layout": "IPY_MODEL_ac18a2eecbf34bbd9cdc940ce1d61305",
            "msg_id": "",
            "outputs": [
              {
                "output_type": "display_data",
                "data": {
                  "text/plain": "<Figure size 1440x720 with 1 Axes>",
                  "image/png": "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\n"
                },
                "metadata": {}
              }
            ]
          }
        },
        "e11df19afe1b436b87314503cb4f1b8f": {
          "model_module": "@jupyter-widgets/base",
          "model_name": "LayoutModel",
          "model_module_version": "1.2.0",
          "state": {
            "_model_module": "@jupyter-widgets/base",
            "_model_module_version": "1.2.0",
            "_model_name": "LayoutModel",
            "_view_count": null,
            "_view_module": "@jupyter-widgets/base",
            "_view_module_version": "1.2.0",
            "_view_name": "LayoutView",
            "align_content": null,
            "align_items": null,
            "align_self": null,
            "border": null,
            "bottom": null,
            "display": null,
            "flex": null,
            "flex_flow": null,
            "grid_area": null,
            "grid_auto_columns": null,
            "grid_auto_flow": null,
            "grid_auto_rows": null,
            "grid_column": null,
            "grid_gap": null,
            "grid_row": null,
            "grid_template_areas": null,
            "grid_template_columns": null,
            "grid_template_rows": null,
            "height": null,
            "justify_content": null,
            "justify_items": null,
            "left": null,
            "margin": null,
            "max_height": null,
            "max_width": null,
            "min_height": null,
            "min_width": null,
            "object_fit": null,
            "object_position": null,
            "order": null,
            "overflow": null,
            "overflow_x": null,
            "overflow_y": null,
            "padding": null,
            "right": null,
            "top": null,
            "visibility": null,
            "width": null
          }
        },
        "7b2b0031c56443a2a74fef12a76b2ac0": {
          "model_module": "@jupyter-widgets/base",
          "model_name": "LayoutModel",
          "model_module_version": "1.2.0",
          "state": {
            "_model_module": "@jupyter-widgets/base",
            "_model_module_version": "1.2.0",
            "_model_name": "LayoutModel",
            "_view_count": null,
            "_view_module": "@jupyter-widgets/base",
            "_view_module_version": "1.2.0",
            "_view_name": "LayoutView",
            "align_content": null,
            "align_items": null,
            "align_self": null,
            "border": null,
            "bottom": null,
            "display": null,
            "flex": null,
            "flex_flow": null,
            "grid_area": null,
            "grid_auto_columns": null,
            "grid_auto_flow": null,
            "grid_auto_rows": null,
            "grid_column": null,
            "grid_gap": null,
            "grid_row": null,
            "grid_template_areas": null,
            "grid_template_columns": null,
            "grid_template_rows": null,
            "height": null,
            "justify_content": null,
            "justify_items": null,
            "left": null,
            "margin": null,
            "max_height": null,
            "max_width": null,
            "min_height": null,
            "min_width": null,
            "object_fit": null,
            "object_position": null,
            "order": null,
            "overflow": null,
            "overflow_x": null,
            "overflow_y": null,
            "padding": null,
            "right": null,
            "top": null,
            "visibility": null,
            "width": null
          }
        },
        "8e67606ced464989b8474ea4c26369d7": {
          "model_module": "@jupyter-widgets/controls",
          "model_name": "DescriptionStyleModel",
          "model_module_version": "1.5.0",
          "state": {
            "_model_module": "@jupyter-widgets/controls",
            "_model_module_version": "1.5.0",
            "_model_name": "DescriptionStyleModel",
            "_view_count": null,
            "_view_module": "@jupyter-widgets/base",
            "_view_module_version": "1.2.0",
            "_view_name": "StyleView",
            "description_width": ""
          }
        },
        "a2d34b1b265943af9cb4d00b93242a3a": {
          "model_module": "@jupyter-widgets/base",
          "model_name": "LayoutModel",
          "model_module_version": "1.2.0",
          "state": {
            "_model_module": "@jupyter-widgets/base",
            "_model_module_version": "1.2.0",
            "_model_name": "LayoutModel",
            "_view_count": null,
            "_view_module": "@jupyter-widgets/base",
            "_view_module_version": "1.2.0",
            "_view_name": "LayoutView",
            "align_content": null,
            "align_items": null,
            "align_self": null,
            "border": null,
            "bottom": null,
            "display": null,
            "flex": null,
            "flex_flow": null,
            "grid_area": null,
            "grid_auto_columns": null,
            "grid_auto_flow": null,
            "grid_auto_rows": null,
            "grid_column": null,
            "grid_gap": null,
            "grid_row": null,
            "grid_template_areas": null,
            "grid_template_columns": null,
            "grid_template_rows": null,
            "height": null,
            "justify_content": null,
            "justify_items": null,
            "left": null,
            "margin": null,
            "max_height": null,
            "max_width": null,
            "min_height": null,
            "min_width": null,
            "object_fit": null,
            "object_position": null,
            "order": null,
            "overflow": null,
            "overflow_x": null,
            "overflow_y": null,
            "padding": null,
            "right": null,
            "top": null,
            "visibility": null,
            "width": null
          }
        },
        "1f313438ca844a88ba3daf161250549e": {
          "model_module": "@jupyter-widgets/controls",
          "model_name": "SliderStyleModel",
          "model_module_version": "1.5.0",
          "state": {
            "_model_module": "@jupyter-widgets/controls",
            "_model_module_version": "1.5.0",
            "_model_name": "SliderStyleModel",
            "_view_count": null,
            "_view_module": "@jupyter-widgets/base",
            "_view_module_version": "1.2.0",
            "_view_name": "StyleView",
            "description_width": "",
            "handle_color": null
          }
        },
        "ac18a2eecbf34bbd9cdc940ce1d61305": {
          "model_module": "@jupyter-widgets/base",
          "model_name": "LayoutModel",
          "model_module_version": "1.2.0",
          "state": {
            "_model_module": "@jupyter-widgets/base",
            "_model_module_version": "1.2.0",
            "_model_name": "LayoutModel",
            "_view_count": null,
            "_view_module": "@jupyter-widgets/base",
            "_view_module_version": "1.2.0",
            "_view_name": "LayoutView",
            "align_content": null,
            "align_items": null,
            "align_self": null,
            "border": null,
            "bottom": null,
            "display": null,
            "flex": null,
            "flex_flow": null,
            "grid_area": null,
            "grid_auto_columns": null,
            "grid_auto_flow": null,
            "grid_auto_rows": null,
            "grid_column": null,
            "grid_gap": null,
            "grid_row": null,
            "grid_template_areas": null,
            "grid_template_columns": null,
            "grid_template_rows": null,
            "height": null,
            "justify_content": null,
            "justify_items": null,
            "left": null,
            "margin": null,
            "max_height": null,
            "max_width": null,
            "min_height": null,
            "min_width": null,
            "object_fit": null,
            "object_position": null,
            "order": null,
            "overflow": null,
            "overflow_x": null,
            "overflow_y": null,
            "padding": null,
            "right": null,
            "top": null,
            "visibility": null,
            "width": null
          }
        },
        "71209a2d195149edab7c8f0091e5be0c": {
          "model_module": "@jupyter-widgets/controls",
          "model_name": "VBoxModel",
          "model_module_version": "1.5.0",
          "state": {
            "_dom_classes": [
              "widget-interact"
            ],
            "_model_module": "@jupyter-widgets/controls",
            "_model_module_version": "1.5.0",
            "_model_name": "VBoxModel",
            "_view_count": null,
            "_view_module": "@jupyter-widgets/controls",
            "_view_module_version": "1.5.0",
            "_view_name": "VBoxView",
            "box_style": "",
            "children": [
              "IPY_MODEL_00e25e3269e64e6a94933d671c9907bd",
              "IPY_MODEL_b781776f4869462c99dcddd2440496bf",
              "IPY_MODEL_9956e6a2a3aa4f36ad97361b3a5cf38b"
            ],
            "layout": "IPY_MODEL_b22788ef0fa74638a49039d6c4c70169"
          }
        },
        "00e25e3269e64e6a94933d671c9907bd": {
          "model_module": "@jupyter-widgets/controls",
          "model_name": "TextModel",
          "model_module_version": "1.5.0",
          "state": {
            "_dom_classes": [],
            "_model_module": "@jupyter-widgets/controls",
            "_model_module_version": "1.5.0",
            "_model_name": "TextModel",
            "_view_count": null,
            "_view_module": "@jupyter-widgets/controls",
            "_view_module_version": "1.5.0",
            "_view_name": "TextView",
            "continuous_update": true,
            "description": "response",
            "description_tooltip": null,
            "disabled": false,
            "layout": "IPY_MODEL_be47abac2c2240bda1b6d99cf0cb8f64",
            "placeholder": "​",
            "style": "IPY_MODEL_4ff1a132609f4a438ec8cfb85167018d",
            "value": "sigma_z"
          }
        },
        "b781776f4869462c99dcddd2440496bf": {
          "model_module": "@jupyter-widgets/controls",
          "model_name": "IntSliderModel",
          "model_module_version": "1.5.0",
          "state": {
            "_dom_classes": [],
            "_model_module": "@jupyter-widgets/controls",
            "_model_module_version": "1.5.0",
            "_model_name": "IntSliderModel",
            "_view_count": null,
            "_view_module": "@jupyter-widgets/controls",
            "_view_module_version": "1.5.0",
            "_view_name": "IntSliderView",
            "continuous_update": true,
            "description": "depth",
            "description_tooltip": null,
            "disabled": false,
            "layout": "IPY_MODEL_8db7b9f8e7084165b668443c281ee1fc",
            "max": 29,
            "min": 0,
            "orientation": "horizontal",
            "readout": true,
            "readout_format": "d",
            "step": 1,
            "style": "IPY_MODEL_7462d287c69c44f1bb0ef8d203c420f4",
            "value": 29
          }
        },
        "9956e6a2a3aa4f36ad97361b3a5cf38b": {
          "model_module": "@jupyter-widgets/output",
          "model_name": "OutputModel",
          "model_module_version": "1.0.0",
          "state": {
            "_dom_classes": [],
            "_model_module": "@jupyter-widgets/output",
            "_model_module_version": "1.0.0",
            "_model_name": "OutputModel",
            "_view_count": null,
            "_view_module": "@jupyter-widgets/output",
            "_view_module_version": "1.0.0",
            "_view_name": "OutputView",
            "layout": "IPY_MODEL_2651b088a54f4338a66fab9624e18bca",
            "msg_id": "",
            "outputs": [
              {
                "output_type": "display_data",
                "data": {
                  "text/plain": "<Figure size 1440x720 with 1 Axes>",
                  "image/png": "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\n"
                },
                "metadata": {}
              }
            ]
          }
        },
        "b22788ef0fa74638a49039d6c4c70169": {
          "model_module": "@jupyter-widgets/base",
          "model_name": "LayoutModel",
          "model_module_version": "1.2.0",
          "state": {
            "_model_module": "@jupyter-widgets/base",
            "_model_module_version": "1.2.0",
            "_model_name": "LayoutModel",
            "_view_count": null,
            "_view_module": "@jupyter-widgets/base",
            "_view_module_version": "1.2.0",
            "_view_name": "LayoutView",
            "align_content": null,
            "align_items": null,
            "align_self": null,
            "border": null,
            "bottom": null,
            "display": null,
            "flex": null,
            "flex_flow": null,
            "grid_area": null,
            "grid_auto_columns": null,
            "grid_auto_flow": null,
            "grid_auto_rows": null,
            "grid_column": null,
            "grid_gap": null,
            "grid_row": null,
            "grid_template_areas": null,
            "grid_template_columns": null,
            "grid_template_rows": null,
            "height": null,
            "justify_content": null,
            "justify_items": null,
            "left": null,
            "margin": null,
            "max_height": null,
            "max_width": null,
            "min_height": null,
            "min_width": null,
            "object_fit": null,
            "object_position": null,
            "order": null,
            "overflow": null,
            "overflow_x": null,
            "overflow_y": null,
            "padding": null,
            "right": null,
            "top": null,
            "visibility": null,
            "width": null
          }
        },
        "be47abac2c2240bda1b6d99cf0cb8f64": {
          "model_module": "@jupyter-widgets/base",
          "model_name": "LayoutModel",
          "model_module_version": "1.2.0",
          "state": {
            "_model_module": "@jupyter-widgets/base",
            "_model_module_version": "1.2.0",
            "_model_name": "LayoutModel",
            "_view_count": null,
            "_view_module": "@jupyter-widgets/base",
            "_view_module_version": "1.2.0",
            "_view_name": "LayoutView",
            "align_content": null,
            "align_items": null,
            "align_self": null,
            "border": null,
            "bottom": null,
            "display": null,
            "flex": null,
            "flex_flow": null,
            "grid_area": null,
            "grid_auto_columns": null,
            "grid_auto_flow": null,
            "grid_auto_rows": null,
            "grid_column": null,
            "grid_gap": null,
            "grid_row": null,
            "grid_template_areas": null,
            "grid_template_columns": null,
            "grid_template_rows": null,
            "height": null,
            "justify_content": null,
            "justify_items": null,
            "left": null,
            "margin": null,
            "max_height": null,
            "max_width": null,
            "min_height": null,
            "min_width": null,
            "object_fit": null,
            "object_position": null,
            "order": null,
            "overflow": null,
            "overflow_x": null,
            "overflow_y": null,
            "padding": null,
            "right": null,
            "top": null,
            "visibility": null,
            "width": null
          }
        },
        "4ff1a132609f4a438ec8cfb85167018d": {
          "model_module": "@jupyter-widgets/controls",
          "model_name": "DescriptionStyleModel",
          "model_module_version": "1.5.0",
          "state": {
            "_model_module": "@jupyter-widgets/controls",
            "_model_module_version": "1.5.0",
            "_model_name": "DescriptionStyleModel",
            "_view_count": null,
            "_view_module": "@jupyter-widgets/base",
            "_view_module_version": "1.2.0",
            "_view_name": "StyleView",
            "description_width": ""
          }
        },
        "8db7b9f8e7084165b668443c281ee1fc": {
          "model_module": "@jupyter-widgets/base",
          "model_name": "LayoutModel",
          "model_module_version": "1.2.0",
          "state": {
            "_model_module": "@jupyter-widgets/base",
            "_model_module_version": "1.2.0",
            "_model_name": "LayoutModel",
            "_view_count": null,
            "_view_module": "@jupyter-widgets/base",
            "_view_module_version": "1.2.0",
            "_view_name": "LayoutView",
            "align_content": null,
            "align_items": null,
            "align_self": null,
            "border": null,
            "bottom": null,
            "display": null,
            "flex": null,
            "flex_flow": null,
            "grid_area": null,
            "grid_auto_columns": null,
            "grid_auto_flow": null,
            "grid_auto_rows": null,
            "grid_column": null,
            "grid_gap": null,
            "grid_row": null,
            "grid_template_areas": null,
            "grid_template_columns": null,
            "grid_template_rows": null,
            "height": null,
            "justify_content": null,
            "justify_items": null,
            "left": null,
            "margin": null,
            "max_height": null,
            "max_width": null,
            "min_height": null,
            "min_width": null,
            "object_fit": null,
            "object_position": null,
            "order": null,
            "overflow": null,
            "overflow_x": null,
            "overflow_y": null,
            "padding": null,
            "right": null,
            "top": null,
            "visibility": null,
            "width": null
          }
        },
        "7462d287c69c44f1bb0ef8d203c420f4": {
          "model_module": "@jupyter-widgets/controls",
          "model_name": "SliderStyleModel",
          "model_module_version": "1.5.0",
          "state": {
            "_model_module": "@jupyter-widgets/controls",
            "_model_module_version": "1.5.0",
            "_model_name": "SliderStyleModel",
            "_view_count": null,
            "_view_module": "@jupyter-widgets/base",
            "_view_module_version": "1.2.0",
            "_view_name": "StyleView",
            "description_width": "",
            "handle_color": null
          }
        },
        "2651b088a54f4338a66fab9624e18bca": {
          "model_module": "@jupyter-widgets/base",
          "model_name": "LayoutModel",
          "model_module_version": "1.2.0",
          "state": {
            "_model_module": "@jupyter-widgets/base",
            "_model_module_version": "1.2.0",
            "_model_name": "LayoutModel",
            "_view_count": null,
            "_view_module": "@jupyter-widgets/base",
            "_view_module_version": "1.2.0",
            "_view_name": "LayoutView",
            "align_content": null,
            "align_items": null,
            "align_self": null,
            "border": null,
            "bottom": null,
            "display": null,
            "flex": null,
            "flex_flow": null,
            "grid_area": null,
            "grid_auto_columns": null,
            "grid_auto_flow": null,
            "grid_auto_rows": null,
            "grid_column": null,
            "grid_gap": null,
            "grid_row": null,
            "grid_template_areas": null,
            "grid_template_columns": null,
            "grid_template_rows": null,
            "height": null,
            "justify_content": null,
            "justify_items": null,
            "left": null,
            "margin": null,
            "max_height": null,
            "max_width": null,
            "min_height": null,
            "min_width": null,
            "object_fit": null,
            "object_position": null,
            "order": null,
            "overflow": null,
            "overflow_x": null,
            "overflow_y": null,
            "padding": null,
            "right": null,
            "top": null,
            "visibility": null,
            "width": null
          }
        }
      }
    }
  },
  "cells": [
    {
      "cell_type": "markdown",
      "metadata": {
        "id": "XFzvfWjK2y0H"
      },
      "source": [
        "# ***Pavement Layered Elastic Analysis*** \n",
        "3D layered elastic analysis for calculating stresses and starains in flexible pavements. Currently only works for fully bonded layers. This program is for instructional purposes only and may contain errors. For source code, visit [github/egemenokte](https://github.com/egemenokte/3DLayeredElastic).\n",
        "\n",
        "It is built on top of PyMastic [github/Mostafa-Nakhaei](https://github.com/Mostafa-Nakhaei/PyMastic). \n",
        "\n",
        "\n",
        "![Layered_elastic.jpg](data:image/jpeg;base64,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)\n",
        "\n",
        "Side note, for quasi-static analysis, if you have your modulus data, you can use \n",
        "\n",
        "freq(Hz)=0.2167\\*V\\*exp(-0.6398\\*ln(a)-0.3112\\*ln(z)+2.6780). \n",
        "\n",
        "V=vehicle speed (kmh), a=contact radius (cm), z=depth (cm). Adapted from [Ghanizadeh et-al]( https://www.sciencedirect.com/science/article/pii/S1996681416301468)"
      ]
    },
    {
      "cell_type": "markdown",
      "metadata": {
        "id": "EmmEFMiXBDce"
      },
      "source": [
        "# Step 0) First Things First! Mount your Colab to GitHUB\n",
        "\n",
        "*   You are given a GitHub repository (you can download and run yourself if you want)\n",
        "*   Please follow the instructions provided in this document to execute and analyze data\n",
        "*   Work your way sequentially, following the instructions above each cell.\n",
        "*   If you run into errors, restart runtime from the Runtime tab.\n",
        "\n",
        "\n",
        "\n",
        "\n",
        "\n",
        "\n",
        "\n",
        "\n"
      ]
    },
    {
      "cell_type": "code",
      "metadata": {
        "id": "XYCTiJFj8itQ",
        "colab": {
          "base_uri": "https://localhost:8080/"
        },
        "outputId": "83038b7c-400a-4022-bb62-78c76178c1ce"
      },
      "source": [
        "!git clone https://github.com/egemenokte/3DLayeredElastic.git\n",
        "%cd 3DLayeredElastic/Run\n",
        "\n",
        "#Import packages necessary for analysis\n",
        "import sys\n",
        "import os\n",
        "sys.path.append('..')\n",
        "from Main.MDA_Huang import Layer3D\n",
        "import numpy as np\n",
        "import pandas as pd\n",
        "import matplotlib.pyplot as plt\n",
        "import seaborn as sns\n",
        "from IPython.display import clear_output\n",
        "import ipywidgets as widgets\n",
        "from IPython.display import display\n",
        "from google.colab import files\n",
        "from ipywidgets import interact, interactive, fixed, interact_manual\n",
        "\n",
        "#Function for converting everything to a dataset\n",
        "def fewpoints(x,y,z,RSO,download):\n",
        "\n",
        "  columns=['x','y','z']+list(RSO.keys())\n",
        "  length=np.size(RSO[list(RSO.keys())[0]])\n",
        "  DF=pd.DataFrame(data=np.zeros([length,len(columns)]),columns=columns)\n",
        "  counter=0\n",
        "  for xx in range(len(x)):\n",
        "    for yy in range(len(y)):\n",
        "      for zz in range(len(z)):\n",
        "        DF.loc[counter,'x']=x[xx]\n",
        "        DF.loc[counter,'y']=y[yy]\n",
        "        DF.loc[counter,'z']=z[zz]\n",
        "        for col in columns[3:]:\n",
        "          mult=1\n",
        "          if col[:3]=='eps':\n",
        "            mult=10**6\n",
        "          DF.loc[counter,col]=RSO[col][yy,xx,zz]*mult\n",
        "        counter=counter+1\n",
        "  if download:\n",
        "    DF.to_excel(\"PLEA.xlsx\") \n",
        "    files.download('PLEA.xlsx')\n",
        "  return DF\n",
        "\n",
        "for i in range(10):\n",
        "    clear_output(wait=True)\n",
        "    print(\"All good, move to the next step\")"
      ],
      "execution_count": null,
      "outputs": [
        {
          "output_type": "stream",
          "name": "stdout",
          "text": [
            "All good, move to the next step\n"
          ]
        }
      ]
    },
    {
      "cell_type": "markdown",
      "source": [
        "# Step 1) Run Layered Elastic Analysis for a few points\n",
        "You are given a structure with specific properties. You can change the modulus/thickness of different layers to see its impact on the design. Units have to be consistent, same with WinJulea. In this module only, strains are reported in microstrains"
      ],
      "metadata": {
        "id": "tD_lhweaAjXU"
      }
    },
    {
      "cell_type": "code",
      "source": [
        "## INPUTS, PLEASE USE CONSISTENT UNITS, SAME AS WIINJULEA\n",
        "## YOU CAN CHANGE THESE PARAMETERS IF NECESSARY, ################################\n",
        "E = np.array([500, 50, 10])*1000   # Layer Modulus (psi), [Top Layer, Second to top layer,...,Subgrade]\n",
        "H = [6, 18]                        # Layer Thicknesses (inch), [Top Layer, Second to top layer,...,nth layer]. Subgrade is not required and assumed semi-infinite\n",
        "nu = [0.35, 0.4, 0.45]             # Poissons ratio, [Top Layer, Second to top layer,...,Subgrade]\n",
        "L=[9000,9000]                      # Load Magnitudes (lbs)\n",
        "LPos=[(10,0),(20,0)]               # Load positions as (x,y) (inch)\n",
        "a = 4                              # Contact radius (inch)\n",
        "x = [10,15,20]                     # x query points for (inch) \n",
        "y=[0]                              # y query points (inch) \n",
        "z =[5.99]                          # z (depth) query points (inch)\n",
        "download=False                     #download results as an excel file? [True or False]\n",
        "\n",
        "'''Function Layer3D returns RS dictionary with keys\n",
        "\n",
        "'deflection_z', 'sigma_x', 'sigma_y', 'sigma_z', \n",
        "'sigma_xy', 'sigma_yz', 'sigma_xz', 'eps_x', \n",
        "'eps_y', 'eps_z', 'eps_xy','eps_yz', 'eps_xz'\n",
        "\n",
        "each contains the response (key) \n",
        "at coordinates (y,x,z) --> RS[key][y,x,z]\n",
        "\n",
        "'''\n",
        "###############################################################################\n",
        "\n",
        "##### Layered elastic analysis settings. Do not change unless slow or unstable\n",
        "ZRO=7*1e-20                 # definition of zero to avoid division by zero\n",
        "isBD=np.ones(len(E))        # assumes fully bonded\n",
        "it = 1600                   # maximum number of iterations\n",
        "tolerance=0.001             # average percent error of query points\n",
        "#######\n",
        "print('Running Elastic Analysis...')\n",
        "RSO=Layer3D(L,LPos,a,x,y,z,H,E,nu,it,ZRO,isBD,tolerance,verbose=True)\n",
        "print('Done')\n",
        "\n",
        "## Save to a pandas dataset to display\n",
        "for i in range(10):\n",
        "    clear_output(wait=True)\n",
        "\n",
        "DF=fewpoints(x,y,z,RSO,download) #Save as a dataframe and then display\n",
        "DF"
      ],
      "metadata": {
        "colab": {
          "base_uri": "https://localhost:8080/",
          "height": 143
        },
        "id": "CEQ9Dn0BAwxX",
        "outputId": "37238fed-7fde-4cc2-d1ba-e46671e3ac04"
      },
      "execution_count": null,
      "outputs": [
        {
          "output_type": "execute_result",
          "data": {
            "text/plain": [
              "      x    y     z  deflection_z     sigma_x     sigma_y    sigma_z  \\\n",
              "0  10.0  0.0  5.99      0.026029 -144.634146 -185.338925  37.103787   \n",
              "1  15.0  0.0  5.99      0.026725 -112.905694 -183.345168  36.644337   \n",
              "2  20.0  0.0  5.99      0.026029 -144.634146 -185.338925  37.103787   \n",
              "\n",
              "       sigma_xy      sigma_yz  sigma_xz       eps_x       eps_y       eps_z  \\\n",
              "0 -4.984898e-15  7.166948e-16 -5.852257 -185.503696 -295.406599  305.188724   \n",
              "1 -4.313174e-15  1.020369e-15  0.000000 -123.120805 -313.307387  280.664277   \n",
              "2  0.000000e+00  0.000000e+00  5.852257 -185.503696 -295.406599  305.188724   \n",
              "\n",
              "         eps_xy        eps_yz     eps_xz  \n",
              "0 -2.691845e-14  3.870152e-15 -31.602189  \n",
              "1 -2.329114e-14  5.509994e-15   0.000000  \n",
              "2  0.000000e+00  0.000000e+00  31.602189  "
            ],
            "text/html": [
              "\n",
              "  <div id=\"df-ec4d244b-7d28-4060-a4d0-7dda4c692521\">\n",
              "    <div class=\"colab-df-container\">\n",
              "      <div>\n",
              "<style scoped>\n",
              "    .dataframe tbody tr th:only-of-type {\n",
              "        vertical-align: middle;\n",
              "    }\n",
              "\n",
              "    .dataframe tbody tr th {\n",
              "        vertical-align: top;\n",
              "    }\n",
              "\n",
              "    .dataframe thead th {\n",
              "        text-align: right;\n",
              "    }\n",
              "</style>\n",
              "<table border=\"1\" class=\"dataframe\">\n",
              "  <thead>\n",
              "    <tr style=\"text-align: right;\">\n",
              "      <th></th>\n",
              "      <th>x</th>\n",
              "      <th>y</th>\n",
              "      <th>z</th>\n",
              "      <th>deflection_z</th>\n",
              "      <th>sigma_x</th>\n",
              "      <th>sigma_y</th>\n",
              "      <th>sigma_z</th>\n",
              "      <th>sigma_xy</th>\n",
              "      <th>sigma_yz</th>\n",
              "      <th>sigma_xz</th>\n",
              "      <th>eps_x</th>\n",
              "      <th>eps_y</th>\n",
              "      <th>eps_z</th>\n",
              "      <th>eps_xy</th>\n",
              "      <th>eps_yz</th>\n",
              "      <th>eps_xz</th>\n",
              "    </tr>\n",
              "  </thead>\n",
              "  <tbody>\n",
              "    <tr>\n",
              "      <th>0</th>\n",
              "      <td>10.0</td>\n",
              "      <td>0.0</td>\n",
              "      <td>5.99</td>\n",
              "      <td>0.026029</td>\n",
              "      <td>-144.634146</td>\n",
              "      <td>-185.338925</td>\n",
              "      <td>37.103787</td>\n",
              "      <td>-4.984898e-15</td>\n",
              "      <td>7.166948e-16</td>\n",
              "      <td>-5.852257</td>\n",
              "      <td>-185.503696</td>\n",
              "      <td>-295.406599</td>\n",
              "      <td>305.188724</td>\n",
              "      <td>-2.691845e-14</td>\n",
              "      <td>3.870152e-15</td>\n",
              "      <td>-31.602189</td>\n",
              "    </tr>\n",
              "    <tr>\n",
              "      <th>1</th>\n",
              "      <td>15.0</td>\n",
              "      <td>0.0</td>\n",
              "      <td>5.99</td>\n",
              "      <td>0.026725</td>\n",
              "      <td>-112.905694</td>\n",
              "      <td>-183.345168</td>\n",
              "      <td>36.644337</td>\n",
              "      <td>-4.313174e-15</td>\n",
              "      <td>1.020369e-15</td>\n",
              "      <td>0.000000</td>\n",
              "      <td>-123.120805</td>\n",
              "      <td>-313.307387</td>\n",
              "      <td>280.664277</td>\n",
              "      <td>-2.329114e-14</td>\n",
              "      <td>5.509994e-15</td>\n",
              "      <td>0.000000</td>\n",
              "    </tr>\n",
              "    <tr>\n",
              "      <th>2</th>\n",
              "      <td>20.0</td>\n",
              "      <td>0.0</td>\n",
              "      <td>5.99</td>\n",
              "      <td>0.026029</td>\n",
              "      <td>-144.634146</td>\n",
              "      <td>-185.338925</td>\n",
              "      <td>37.103787</td>\n",
              "      <td>0.000000e+00</td>\n",
              "      <td>0.000000e+00</td>\n",
              "      <td>5.852257</td>\n",
              "      <td>-185.503696</td>\n",
              "      <td>-295.406599</td>\n",
              "      <td>305.188724</td>\n",
              "      <td>0.000000e+00</td>\n",
              "      <td>0.000000e+00</td>\n",
              "      <td>31.602189</td>\n",
              "    </tr>\n",
              "  </tbody>\n",
              "</table>\n",
              "</div>\n",
              "      <button class=\"colab-df-convert\" onclick=\"convertToInteractive('df-ec4d244b-7d28-4060-a4d0-7dda4c692521')\"\n",
              "              title=\"Convert this dataframe to an interactive table.\"\n",
              "              style=\"display:none;\">\n",
              "        \n",
              "  <svg xmlns=\"http://www.w3.org/2000/svg\" height=\"24px\"viewBox=\"0 0 24 24\"\n",
              "       width=\"24px\">\n",
              "    <path d=\"M0 0h24v24H0V0z\" fill=\"none\"/>\n",
              "    <path d=\"M18.56 5.44l.94 2.06.94-2.06 2.06-.94-2.06-.94-.94-2.06-.94 2.06-2.06.94zm-11 1L8.5 8.5l.94-2.06 2.06-.94-2.06-.94L8.5 2.5l-.94 2.06-2.06.94zm10 10l.94 2.06.94-2.06 2.06-.94-2.06-.94-.94-2.06-.94 2.06-2.06.94z\"/><path d=\"M17.41 7.96l-1.37-1.37c-.4-.4-.92-.59-1.43-.59-.52 0-1.04.2-1.43.59L10.3 9.45l-7.72 7.72c-.78.78-.78 2.05 0 2.83L4 21.41c.39.39.9.59 1.41.59.51 0 1.02-.2 1.41-.59l7.78-7.78 2.81-2.81c.8-.78.8-2.07 0-2.86zM5.41 20L4 18.59l7.72-7.72 1.47 1.35L5.41 20z\"/>\n",
              "  </svg>\n",
              "      </button>\n",
              "      \n",
              "  <style>\n",
              "    .colab-df-container {\n",
              "      display:flex;\n",
              "      flex-wrap:wrap;\n",
              "      gap: 12px;\n",
              "    }\n",
              "\n",
              "    .colab-df-convert {\n",
              "      background-color: #E8F0FE;\n",
              "      border: none;\n",
              "      border-radius: 50%;\n",
              "      cursor: pointer;\n",
              "      display: none;\n",
              "      fill: #1967D2;\n",
              "      height: 32px;\n",
              "      padding: 0 0 0 0;\n",
              "      width: 32px;\n",
              "    }\n",
              "\n",
              "    .colab-df-convert:hover {\n",
              "      background-color: #E2EBFA;\n",
              "      box-shadow: 0px 1px 2px rgba(60, 64, 67, 0.3), 0px 1px 3px 1px rgba(60, 64, 67, 0.15);\n",
              "      fill: #174EA6;\n",
              "    }\n",
              "\n",
              "    [theme=dark] .colab-df-convert {\n",
              "      background-color: #3B4455;\n",
              "      fill: #D2E3FC;\n",
              "    }\n",
              "\n",
              "    [theme=dark] .colab-df-convert:hover {\n",
              "      background-color: #434B5C;\n",
              "      box-shadow: 0px 1px 3px 1px rgba(0, 0, 0, 0.15);\n",
              "      filter: drop-shadow(0px 1px 2px rgba(0, 0, 0, 0.3));\n",
              "      fill: #FFFFFF;\n",
              "    }\n",
              "  </style>\n",
              "\n",
              "      <script>\n",
              "        const buttonEl =\n",
              "          document.querySelector('#df-ec4d244b-7d28-4060-a4d0-7dda4c692521 button.colab-df-convert');\n",
              "        buttonEl.style.display =\n",
              "          google.colab.kernel.accessAllowed ? 'block' : 'none';\n",
              "\n",
              "        async function convertToInteractive(key) {\n",
              "          const element = document.querySelector('#df-ec4d244b-7d28-4060-a4d0-7dda4c692521');\n",
              "          const dataTable =\n",
              "            await google.colab.kernel.invokeFunction('convertToInteractive',\n",
              "                                                     [key], {});\n",
              "          if (!dataTable) return;\n",
              "\n",
              "          const docLinkHtml = 'Like what you see? Visit the ' +\n",
              "            '<a target=\"_blank\" href=https://colab.research.google.com/notebooks/data_table.ipynb>data table notebook</a>'\n",
              "            + ' to learn more about interactive tables.';\n",
              "          element.innerHTML = '';\n",
              "          dataTable['output_type'] = 'display_data';\n",
              "          await google.colab.output.renderOutput(dataTable, element);\n",
              "          const docLink = document.createElement('div');\n",
              "          docLink.innerHTML = docLinkHtml;\n",
              "          element.appendChild(docLink);\n",
              "        }\n",
              "      </script>\n",
              "    </div>\n",
              "  </div>\n",
              "  "
            ]
          },
          "metadata": {},
          "execution_count": 33
        }
      ]
    },
    {
      "cell_type": "markdown",
      "source": [
        "# Step 2) Run Layered Elastic Analysis for Visualization\n",
        "We can also run this analysis on a grid to visualize outputs bette by changing the z and x values to an array"
      ],
      "metadata": {
        "id": "-DXJCMRfdIUY"
      }
    },
    {
      "cell_type": "code",
      "metadata": {
        "id": "ZZSYzwZd9iwd",
        "colab": {
          "base_uri": "https://localhost:8080/"
        },
        "outputId": "68cb02dd-4443-43f5-b8db-03a9ade815a1"
      },
      "source": [
        "## YOU CAN CHANGE THESE PARAMETERS IF NECESSARY################################\n",
        "E = np.array([500, 50, 10])*1000   # Layer Modulus (psi), [Top Layer, Second to top layer,...,Subgrade]\n",
        "H = [6, 18]                        # Layer Thicknesses (inch), [Top Layer, Second to top layer,...,nth layer]. Subgrade is not required and assumed semi-infinite\n",
        "nu = [0.35, 0.4, 0.45]             # Poissons ratio, [Top Layer, Second to top layer,...,Subgrade]\n",
        "L=[9000,9000]                      # Load Magnitudes (lbs)\n",
        "LPos=[(10,0),(20,0)]               # Load positions as (x,y) (inch)\n",
        "a = 4                              # Contact radius (inch)\n",
        "x = np.arange(0,30,1)              # x query points for (inch) \n",
        "y=[0]                              # y query points (inch) \n",
        "z =np.arange(0,30,1)               # z (depth) query points (inch)\n",
        "###############################################################################\n",
        "\n",
        "############################ DO NOT CHANGE BELOW THIS LINE#####################\n",
        "## Layered elastic analysis settings. Do not change unless slow or unstable\n",
        "ZRO=7*1e-20\n",
        "isBD=np.ones(len(E))\n",
        "it = 1600            # number of maximum iterations\n",
        "tolerance=0.0005     #average percent error of query points\n",
        "print('Running Elastic Analysis...')\n",
        "RS=Layer3D(L,LPos,a,x,y,z,H,E,nu,it,ZRO,isBD,tolerance,verbose=True)\n",
        "print('Done')\n",
        "sns.set(rc={'figure.figsize':(20,10)},font_scale=1.15)"
      ],
      "execution_count": null,
      "outputs": [
        {
          "output_type": "stream",
          "name": "stdout",
          "text": [
            "Running Elastic Analysis...\n",
            "Load  1 / 2\n",
            "iteration 200  error: 0.0001 %\n",
            "Load  2 / 2\n",
            "iteration 200  error: 0.0006 %\n",
            "iteration 300  error: 0.0 %\n",
            "Done\n"
          ]
        }
      ]
    },
    {
      "cell_type": "markdown",
      "metadata": {
        "id": "wmU7-1DHB2Y5"
      },
      "source": [
        "# Step 3) Heatmaps\n",
        "Let's see the results by plotting them as a heatmap at first y index. You can manually change the response to change which response to plot. Please use keys or column names as reference\n"
      ]
    },
    {
      "cell_type": "code",
      "metadata": {
        "id": "QneZYlEF8J--",
        "colab": {
          "base_uri": "https://localhost:8080/",
          "height": 1000
        },
        "outputId": "4daad438-5f9d-459e-8b04-6396277f7e5c"
      },
      "source": [
        "sns.set(rc={'figure.figsize':(20,10)},font_scale=1.15)\n",
        "z=np.array(z)\n",
        "plt.close('all')\n",
        "\n",
        "plt.figure()\n",
        "response='eps_z' \n",
        "A=np.transpose(RS[response][0,:,:])*10**6\n",
        "sns.heatmap(A,xticklabels=x,yticklabels=-z,cbar_kws={'label': '$\\mu\\epsilon$'}) #positive is compression\n",
        "plt.xlabel('x')\n",
        "plt.ylabel('z')\n",
        "plt.title(response)\n",
        "\n",
        "plt.figure()\n",
        "response='eps_y' \n",
        "A=np.transpose(RS[response][0,:,:])*10**6\n",
        "sns.heatmap(A,xticklabels=x,yticklabels=-z,cbar_kws={'label': '$\\mu\\epsilon$'})\n",
        "plt.xlabel('x')\n",
        "plt.ylabel('z')\n",
        "plt.title(response)\n",
        "\n",
        "plt.figure()\n",
        "response='sigma_z' \n",
        "A=np.transpose(RS[response][0,:,:])\n",
        "sns.heatmap(A,xticklabels=x,yticklabels=-z,cbar_kws={'label': 'Stress (psi)'})\n",
        "plt.xlabel('x')\n",
        "plt.ylabel('z')\n",
        "plt.title(response)\n",
        "\n",
        "#To plot deflections. \n",
        "\n",
        "#fig, ax = plt.subplots(figsize=(10, 8))\n",
        "#response='deflection_z' \n",
        "#mag=50\n",
        "#X,Z=np.meshgrid(x,z)\n",
        "#A=np.transpose(RS[response][0,:,:])*mag\n",
        "# A=RS['sigma_z'][0,:,:]\n",
        "#ax.scatter(X.flatten(),-Z.flatten(),s=0.5)\n",
        "#ax.scatter(X.flatten(),-Z.flatten()-A.flatten())\n",
        "#ax.set_xticks(x)\n",
        "#ax.set_yticks(-z)\n",
        "#plt.title('Deformation field magnified '+str(mag)+' times')\n",
        "#plt.xlabel('x')\n",
        "#plt.ylabel('z')\n",
        "# plt.grid()\n",
        "\n",
        "#ax.quiver(X,-Z,-A*0,-A,-A, scale_units='xy', scale=1.)"
      ],
      "execution_count": null,
      "outputs": [
        {
          "output_type": "execute_result",
          "data": {
            "text/plain": [
              "Text(0.5, 1.0, 'sigma_z')"
            ]
          },
          "metadata": {},
          "execution_count": 32
        },
        {
          "output_type": "display_data",
          "data": {
            "text/plain": [
              "<Figure size 1440x720 with 2 Axes>"
            ],
            "image/png": "[encoded data removed]"
          },
          "metadata": {}
        },
        {
          "output_type": "display_data",
          "data": {
            "text/plain": [
              "<Figure size 1440x720 with 2 Axes>"
            ],
            "image/png": "[encoded data removed]"
          },
          "metadata": {}
        },
        {
          "output_type": "display_data",
          "data": {
            "text/plain": [
              "<Figure size 1440x720 with 2 Axes>"
            ],
            "image/png": "[encoded data removed]"
          },
          "metadata": {}
        }
      ]
    },
    {
      "cell_type": "markdown",
      "metadata": {
        "id": "NQQjg5UsUlRf"
      },
      "source": [
        "# Step 4) Plotting with respect to depth at a given x \n",
        "Plotting with respect to depth for a given x. You can change the interactive dialogs to plot different responses. Please use keys or column names for reference. For instance, use 'eps_z' for compressive vertical strain"
      ]
    },
    {
      "cell_type": "code",
      "metadata": {
        "id": "S5NVc90-B9Px",
        "colab": {
          "base_uri": "https://localhost:8080/",
          "height": 696,
          "referenced_widgets": [
            "58915fa7fcd348cbb513fa40e868f724",
            "ceb155ebf72b4e38b001c5e758febd32",
            "b5a145b2733d4c238a8113a59ad20152",
            "45023b9145b94f24b363efd19f876ba6",
            "e11df19afe1b436b87314503cb4f1b8f",
            "7b2b0031c56443a2a74fef12a76b2ac0",
            "8e67606ced464989b8474ea4c26369d7",
            "a2d34b1b265943af9cb4d00b93242a3a",
            "1f313438ca844a88ba3daf161250549e",
            "ac18a2eecbf34bbd9cdc940ce1d61305"
          ]
        },
        "outputId": "d4eaa4e8-6830-4349-f36f-cc8df157779e"
      },
      "source": [
        "idx=(np.abs(np.array(x) - LPos[0][0])).argmin() #index under the load by default\n",
        "@interact(xx=widgets.IntSlider(min=0, max=len(x)-1, step=1, value=idx), response='sigma_z')\n",
        "def plotx(response=response,xx=0):\n",
        "  response=response\n",
        "  A=np.transpose(RS[response][0,:,:])\n",
        "  idx=xx\n",
        "  sns.scatterplot(x=A[:,idx],y=-z,s=70) #plot the idx x element from left\n",
        "  plt.xlabel('response (response units)')\n",
        "  plt.ylabel('z')\n",
        "  plt.title(response+' ind='+str(idx)+', x='+str(x[idx]))"
      ],
      "execution_count": null,
      "outputs": [
        {
          "output_type": "display_data",
          "data": {
            "text/plain": [
              "interactive(children=(Text(value='sigma_z', description='response'), IntSlider(value=10, description='xx', max…"
            ],
            "application/vnd.jupyter.widget-view+json": {
              "version_major": 2,
              "version_minor": 0,
              "model_id": "58915fa7fcd348cbb513fa40e868f724"
            }
          },
          "metadata": {}
        }
      ]
    },
    {
      "cell_type": "markdown",
      "source": [
        "# Step 5) Plotting with respect to x at a given depth\n",
        "Plotting with respect to x for a given depth. You can change the interactive dialogs to plot different responses. Please use keys or column names for reference. For instance, use 'eps_z' for compressive vertical strain"
      ],
      "metadata": {
        "id": "Er8cEsqOBt-i"
      }
    },
    {
      "cell_type": "code",
      "source": [
        "@interact(depth=widgets.IntSlider(min=0, max=len(z)-1, step=1, value=0), response='sigma_z')\n",
        "def plotz(response=response,depth=0):\n",
        "  response=response\n",
        "  depthindex = depth \n",
        "  #depthindex=6 #how deep do we want to go?\n",
        "  A=np.transpose(RS[response][0,:,:])\n",
        "\n",
        "  sns.scatterplot(y=A[depthindex,:],x=x,s=70) #plot the idx x element from left\n",
        "  plt.xlabel('x')\n",
        "  plt.ylabel('response (response units)')\n",
        "  plt.title(response+' at z ='+str(z[depth]))\n"
      ],
      "metadata": {
        "colab": {
          "base_uri": "https://localhost:8080/",
          "height": 696,
          "referenced_widgets": [
            "71209a2d195149edab7c8f0091e5be0c",
            "00e25e3269e64e6a94933d671c9907bd",
            "b781776f4869462c99dcddd2440496bf",
            "9956e6a2a3aa4f36ad97361b3a5cf38b",
            "b22788ef0fa74638a49039d6c4c70169",
            "be47abac2c2240bda1b6d99cf0cb8f64",
            "4ff1a132609f4a438ec8cfb85167018d",
            "8db7b9f8e7084165b668443c281ee1fc",
            "7462d287c69c44f1bb0ef8d203c420f4",
            "2651b088a54f4338a66fab9624e18bca"
          ]
        },
        "id": "txCypWyzByaF",
        "outputId": "26e2d0b2-15f7-43df-f0cb-1e31134d00d2"
      },
      "execution_count": null,
      "outputs": [
        {
          "output_type": "display_data",
          "data": {
            "text/plain": [
              "interactive(children=(Text(value='sigma_z', description='response'), IntSlider(value=0, description='depth', m…"
            ],
            "application/vnd.jupyter.widget-view+json": {
              "version_major": 2,
              "version_minor": 0,
              "model_id": "71209a2d195149edab7c8f0091e5be0c"
            }
          },
          "metadata": {}
        }
      ]
    },
    {
      "cell_type": "markdown",
      "source": [
        "# Step 6) Comparing Different Structures\n",
        "We can compare different structures by running additional analysis and keeping the previous one as baseline"
      ],
      "metadata": {
        "id": "_zJz8rewCDk8"
      }
    },
    {
      "cell_type": "code",
      "source": [
        "## YOU CAN CHANGE THESE PARAMETERS IF NECESSARY################################\n",
        "E = np.array([100, 50, 10])*1000           # Layer Modulus (psi), [Top Layer, Second to top layer,...,Subgrade]\n",
        "H = [6, 18]                 # Layer Thicknesses (inch), [Top Layer, Second to top layer,...,nth layer]. Subgrade is not required and assumed semi-infinite\n",
        "nu = [0.35, 0.4, 0.45]      # Poissons ratio, [Top Layer, Second to top layer,...,Subgrade]\n",
        "L=[9000]                       # Load Magnitudes (lbs)\n",
        "LPos=[(10,0)]               # Load positions as (x,y) (inch)\n",
        "a = 4                       # Contact radius (inch)\n",
        "x = np.arange(0,30,1)       # x query points for FWD (inch) \n",
        "y=[0]                    # y query points (inch) \n",
        "z =np.arange(0,30,1)        # z (depth) query points (inch)\n",
        "###############################################################################\n",
        "print('Running Elastic Analysis...')\n",
        "RS2=Layer3D(L,LPos,a,x,y,z,H,E,nu,it,ZRO,np.ones(len(E)),tolerance,verbose=True)\n",
        "print('Done')"
      ],
      "metadata": {
        "colab": {
          "base_uri": "https://localhost:8080/"
        },
        "id": "Up0GobF-CUCZ",
        "outputId": "4846ec64-f6a2-43bc-f3e3-2137f008ccd1"
      },
      "execution_count": null,
      "outputs": [
        {
          "output_type": "stream",
          "name": "stdout",
          "text": [
            "Running Elastic Analysis...\n",
            "Load  1 / 1\n",
            "iteration 200  error: 0.0003 %\n",
            "Done\n"
          ]
        }
      ]
    },
    {
      "cell_type": "markdown",
      "source": [
        "Plotting with respect to depth for a given x. You can change the response to plot different responses. Please use keys or column names for reference. For instance, use 'eps_z' for compressive vertical strain"
      ],
      "metadata": {
        "id": "pqjPpe6ApyUV"
      }
    },
    {
      "cell_type": "code",
      "source": [
        "response='sigma_z' \n",
        "A=np.transpose(RS[response][0,:,:])\n",
        "B=np.transpose(RS2[response][0,:,:])\n",
        "# A=RS['sigma_z'][0,:,:]\n",
        "idx = (np.abs(np.array(x) - LPos[0][0])).argmin() #index under the load\n",
        "sns.scatterplot(x=A[:,idx],y=-z,s=70,label='Baseline') #plot the idx x element from left\n",
        "sns.scatterplot(x=B[:,idx],y=-z,s=70,label='New') #plot the idx x element from left\n",
        "plt.xlabel('response (response units)')\n",
        "plt.ylabel('z')\n",
        "plt.title(response+' ind='+str(idx)+', x='+str(x[idx]))\n",
        "plt.legend()"
      ],
      "metadata": {
        "colab": {
          "base_uri": "https://localhost:8080/",
          "height": 649
        },
        "id": "n58G-I2WCrRK",
        "outputId": "a9d91525-9fd9-4390-ab20-ea79f72953d0"
      },
      "execution_count": null,
      "outputs": [
        {
          "output_type": "execute_result",
          "data": {
            "text/plain": [
              "<matplotlib.legend.Legend at 0x7fbe1de3c610>"
            ]
          },
          "metadata": {},
          "execution_count": 20
        },
        {
          "output_type": "display_data",
          "data": {
            "text/plain": [
              "<Figure size 1440x720 with 1 Axes>"
            ],
            "image/png": "[encoded data removed]"
          },
          "metadata": {}
        }
      ]
    }
  ]
}
