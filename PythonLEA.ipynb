{
  "nbformat": 4,
  "nbformat_minor": 0,
  "metadata": {
    "colab": {
      "provenance": [],
      "collapsed_sections": [
        "XFzvfWjK2y0H",
        "EmmEFMiXBDce",
        "tD_lhweaAjXU",
        "-DXJCMRfdIUY",
        "wmU7-1DHB2Y5",
        "NQQjg5UsUlRf",
        "Er8cEsqOBt-i",
        "_zJz8rewCDk8"
      ]
    },
    "kernelspec": {
      "name": "python3",
      "display_name": "Python 3"
    },
    "language_info": {
      "name": "python"
    },
    "widgets": {
      "application/vnd.jupyter.widget-state+json": {
        "95fc6a381d214b94892bd450e8812e1e": {
          "model_module": "@jupyter-widgets/controls",
          "model_name": "VBoxModel",
          "model_module_version": "1.5.0",
          "state": {
            "_dom_classes": [
              "widget-interact"
            ],
            "_model_module": "@jupyter-widgets/controls",
            "_model_module_version": "1.5.0",
            "_model_name": "VBoxModel",
            "_view_count": null,
            "_view_module": "@jupyter-widgets/controls",
            "_view_module_version": "1.5.0",
            "_view_name": "VBoxView",
            "box_style": "",
            "children": [
              "IPY_MODEL_c7a86d935a23488d8e01d31599b03e3f",
              "IPY_MODEL_1bc5607a929842b7a40141e2a918d6a8",
              "IPY_MODEL_bd73c03e40aa48d2b07ad3cb9af7e544"
            ],
            "layout": "IPY_MODEL_edc2c166b81f4743b778fdcc8f76ff4d"
          }
        },
        "c7a86d935a23488d8e01d31599b03e3f": {
          "model_module": "@jupyter-widgets/controls",
          "model_name": "TextModel",
          "model_module_version": "1.5.0",
          "state": {
            "_dom_classes": [],
            "_model_module": "@jupyter-widgets/controls",
            "_model_module_version": "1.5.0",
            "_model_name": "TextModel",
            "_view_count": null,
            "_view_module": "@jupyter-widgets/controls",
            "_view_module_version": "1.5.0",
            "_view_name": "TextView",
            "continuous_update": true,
            "description": "response",
            "description_tooltip": null,
            "disabled": false,
            "layout": "IPY_MODEL_fdc62b8878e34e278597b7aebba4cd37",
            "placeholder": "​",
            "style": "IPY_MODEL_0c9671840ceb465abf266c4d512c5e7b",
            "value": "sigma_z"
          }
        },
        "1bc5607a929842b7a40141e2a918d6a8": {
          "model_module": "@jupyter-widgets/controls",
          "model_name": "IntSliderModel",
          "model_module_version": "1.5.0",
          "state": {
            "_dom_classes": [],
            "_model_module": "@jupyter-widgets/controls",
            "_model_module_version": "1.5.0",
            "_model_name": "IntSliderModel",
            "_view_count": null,
            "_view_module": "@jupyter-widgets/controls",
            "_view_module_version": "1.5.0",
            "_view_name": "IntSliderView",
            "continuous_update": true,
            "description": "xx",
            "description_tooltip": null,
            "disabled": false,
            "layout": "IPY_MODEL_aaab47a4e603446781c93a850f75415a",
            "max": 29,
            "min": 0,
            "orientation": "horizontal",
            "readout": true,
            "readout_format": "d",
            "step": 1,
            "style": "IPY_MODEL_9a9739ddcb64440fbefdb07be61470f0",
            "value": 10
          }
        },
        "bd73c03e40aa48d2b07ad3cb9af7e544": {
          "model_module": "@jupyter-widgets/output",
          "model_name": "OutputModel",
          "model_module_version": "1.0.0",
          "state": {
            "_dom_classes": [],
            "_model_module": "@jupyter-widgets/output",
            "_model_module_version": "1.0.0",
            "_model_name": "OutputModel",
            "_view_count": null,
            "_view_module": "@jupyter-widgets/output",
            "_view_module_version": "1.0.0",
            "_view_name": "OutputView",
            "layout": "IPY_MODEL_8649daa325a8454f99a63fdc7f78e1c8",
            "msg_id": "",
            "outputs": [
              {
                "output_type": "display_data",
                "data": {
                  "text/plain": "<Figure size 1440x720 with 1 Axes>",
                  "image/png": "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\n"
                },
                "metadata": {}
              }
            ]
          }
        },
        "edc2c166b81f4743b778fdcc8f76ff4d": {
          "model_module": "@jupyter-widgets/base",
          "model_name": "LayoutModel",
          "model_module_version": "1.2.0",
          "state": {
            "_model_module": "@jupyter-widgets/base",
            "_model_module_version": "1.2.0",
            "_model_name": "LayoutModel",
            "_view_count": null,
            "_view_module": "@jupyter-widgets/base",
            "_view_module_version": "1.2.0",
            "_view_name": "LayoutView",
            "align_content": null,
            "align_items": null,
            "align_self": null,
            "border": null,
            "bottom": null,
            "display": null,
            "flex": null,
            "flex_flow": null,
            "grid_area": null,
            "grid_auto_columns": null,
            "grid_auto_flow": null,
            "grid_auto_rows": null,
            "grid_column": null,
            "grid_gap": null,
            "grid_row": null,
            "grid_template_areas": null,
            "grid_template_columns": null,
            "grid_template_rows": null,
            "height": null,
            "justify_content": null,
            "justify_items": null,
            "left": null,
            "margin": null,
            "max_height": null,
            "max_width": null,
            "min_height": null,
            "min_width": null,
            "object_fit": null,
            "object_position": null,
            "order": null,
            "overflow": null,
            "overflow_x": null,
            "overflow_y": null,
            "padding": null,
            "right": null,
            "top": null,
            "visibility": null,
            "width": null
          }
        },
        "fdc62b8878e34e278597b7aebba4cd37": {
          "model_module": "@jupyter-widgets/base",
          "model_name": "LayoutModel",
          "model_module_version": "1.2.0",
          "state": {
            "_model_module": "@jupyter-widgets/base",
            "_model_module_version": "1.2.0",
            "_model_name": "LayoutModel",
            "_view_count": null,
            "_view_module": "@jupyter-widgets/base",
            "_view_module_version": "1.2.0",
            "_view_name": "LayoutView",
            "align_content": null,
            "align_items": null,
            "align_self": null,
            "border": null,
            "bottom": null,
            "display": null,
            "flex": null,
            "flex_flow": null,
            "grid_area": null,
            "grid_auto_columns": null,
            "grid_auto_flow": null,
            "grid_auto_rows": null,
            "grid_column": null,
            "grid_gap": null,
            "grid_row": null,
            "grid_template_areas": null,
            "grid_template_columns": null,
            "grid_template_rows": null,
            "height": null,
            "justify_content": null,
            "justify_items": null,
            "left": null,
            "margin": null,
            "max_height": null,
            "max_width": null,
            "min_height": null,
            "min_width": null,
            "object_fit": null,
            "object_position": null,
            "order": null,
            "overflow": null,
            "overflow_x": null,
            "overflow_y": null,
            "padding": null,
            "right": null,
            "top": null,
            "visibility": null,
            "width": null
          }
        },
        "0c9671840ceb465abf266c4d512c5e7b": {
          "model_module": "@jupyter-widgets/controls",
          "model_name": "DescriptionStyleModel",
          "model_module_version": "1.5.0",
          "state": {
            "_model_module": "@jupyter-widgets/controls",
            "_model_module_version": "1.5.0",
            "_model_name": "DescriptionStyleModel",
            "_view_count": null,
            "_view_module": "@jupyter-widgets/base",
            "_view_module_version": "1.2.0",
            "_view_name": "StyleView",
            "description_width": ""
          }
        },
        "aaab47a4e603446781c93a850f75415a": {
          "model_module": "@jupyter-widgets/base",
          "model_name": "LayoutModel",
          "model_module_version": "1.2.0",
          "state": {
            "_model_module": "@jupyter-widgets/base",
            "_model_module_version": "1.2.0",
            "_model_name": "LayoutModel",
            "_view_count": null,
            "_view_module": "@jupyter-widgets/base",
            "_view_module_version": "1.2.0",
            "_view_name": "LayoutView",
            "align_content": null,
            "align_items": null,
            "align_self": null,
            "border": null,
            "bottom": null,
            "display": null,
            "flex": null,
            "flex_flow": null,
            "grid_area": null,
            "grid_auto_columns": null,
            "grid_auto_flow": null,
            "grid_auto_rows": null,
            "grid_column": null,
            "grid_gap": null,
            "grid_row": null,
            "grid_template_areas": null,
            "grid_template_columns": null,
            "grid_template_rows": null,
            "height": null,
            "justify_content": null,
            "justify_items": null,
            "left": null,
            "margin": null,
            "max_height": null,
            "max_width": null,
            "min_height": null,
            "min_width": null,
            "object_fit": null,
            "object_position": null,
            "order": null,
            "overflow": null,
            "overflow_x": null,
            "overflow_y": null,
            "padding": null,
            "right": null,
            "top": null,
            "visibility": null,
            "width": null
          }
        },
        "9a9739ddcb64440fbefdb07be61470f0": {
          "model_module": "@jupyter-widgets/controls",
          "model_name": "SliderStyleModel",
          "model_module_version": "1.5.0",
          "state": {
            "_model_module": "@jupyter-widgets/controls",
            "_model_module_version": "1.5.0",
            "_model_name": "SliderStyleModel",
            "_view_count": null,
            "_view_module": "@jupyter-widgets/base",
            "_view_module_version": "1.2.0",
            "_view_name": "StyleView",
            "description_width": "",
            "handle_color": null
          }
        },
        "8649daa325a8454f99a63fdc7f78e1c8": {
          "model_module": "@jupyter-widgets/base",
          "model_name": "LayoutModel",
          "model_module_version": "1.2.0",
          "state": {
            "_model_module": "@jupyter-widgets/base",
            "_model_module_version": "1.2.0",
            "_model_name": "LayoutModel",
            "_view_count": null,
            "_view_module": "@jupyter-widgets/base",
            "_view_module_version": "1.2.0",
            "_view_name": "LayoutView",
            "align_content": null,
            "align_items": null,
            "align_self": null,
            "border": null,
            "bottom": null,
            "display": null,
            "flex": null,
            "flex_flow": null,
            "grid_area": null,
            "grid_auto_columns": null,
            "grid_auto_flow": null,
            "grid_auto_rows": null,
            "grid_column": null,
            "grid_gap": null,
            "grid_row": null,
            "grid_template_areas": null,
            "grid_template_columns": null,
            "grid_template_rows": null,
            "height": null,
            "justify_content": null,
            "justify_items": null,
            "left": null,
            "margin": null,
            "max_height": null,
            "max_width": null,
            "min_height": null,
            "min_width": null,
            "object_fit": null,
            "object_position": null,
            "order": null,
            "overflow": null,
            "overflow_x": null,
            "overflow_y": null,
            "padding": null,
            "right": null,
            "top": null,
            "visibility": null,
            "width": null
          }
        },
        "1bffdc4909d84b92bcf96b745fa9a3a4": {
          "model_module": "@jupyter-widgets/controls",
          "model_name": "VBoxModel",
          "model_module_version": "1.5.0",
          "state": {
            "_dom_classes": [
              "widget-interact"
            ],
            "_model_module": "@jupyter-widgets/controls",
            "_model_module_version": "1.5.0",
            "_model_name": "VBoxModel",
            "_view_count": null,
            "_view_module": "@jupyter-widgets/controls",
            "_view_module_version": "1.5.0",
            "_view_name": "VBoxView",
            "box_style": "",
            "children": [
              "IPY_MODEL_62ebdef9246444299f98c179d16008ca",
              "IPY_MODEL_d1bacb760369448594f546041ef632a4",
              "IPY_MODEL_e203ffb0ca2845b2b5492564cd09a03f"
            ],
            "layout": "IPY_MODEL_9ec5083a614c4e5486ec8318cc73f519"
          }
        },
        "62ebdef9246444299f98c179d16008ca": {
          "model_module": "@jupyter-widgets/controls",
          "model_name": "TextModel",
          "model_module_version": "1.5.0",
          "state": {
            "_dom_classes": [],
            "_model_module": "@jupyter-widgets/controls",
            "_model_module_version": "1.5.0",
            "_model_name": "TextModel",
            "_view_count": null,
            "_view_module": "@jupyter-widgets/controls",
            "_view_module_version": "1.5.0",
            "_view_name": "TextView",
            "continuous_update": true,
            "description": "response",
            "description_tooltip": null,
            "disabled": false,
            "layout": "IPY_MODEL_4b09d14ea5054756a5d375d1a7681c28",
            "placeholder": "​",
            "style": "IPY_MODEL_1fdb2ef1a311447abe55c06a784e310a",
            "value": "sigma_z"
          }
        },
        "d1bacb760369448594f546041ef632a4": {
          "model_module": "@jupyter-widgets/controls",
          "model_name": "IntSliderModel",
          "model_module_version": "1.5.0",
          "state": {
            "_dom_classes": [],
            "_model_module": "@jupyter-widgets/controls",
            "_model_module_version": "1.5.0",
            "_model_name": "IntSliderModel",
            "_view_count": null,
            "_view_module": "@jupyter-widgets/controls",
            "_view_module_version": "1.5.0",
            "_view_name": "IntSliderView",
            "continuous_update": true,
            "description": "depth",
            "description_tooltip": null,
            "disabled": false,
            "layout": "IPY_MODEL_a361c41acc254ea7aae83b8a7b906620",
            "max": 29,
            "min": 0,
            "orientation": "horizontal",
            "readout": true,
            "readout_format": "d",
            "step": 1,
            "style": "IPY_MODEL_acb9868c7da34dc581067caab3251884",
            "value": 3
          }
        },
        "e203ffb0ca2845b2b5492564cd09a03f": {
          "model_module": "@jupyter-widgets/output",
          "model_name": "OutputModel",
          "model_module_version": "1.0.0",
          "state": {
            "_dom_classes": [],
            "_model_module": "@jupyter-widgets/output",
            "_model_module_version": "1.0.0",
            "_model_name": "OutputModel",
            "_view_count": null,
            "_view_module": "@jupyter-widgets/output",
            "_view_module_version": "1.0.0",
            "_view_name": "OutputView",
            "layout": "IPY_MODEL_3bee5cba21324ab8992ca63c0f0a303f",
            "msg_id": "",
            "outputs": [
              {
                "output_type": "display_data",
                "data": {
                  "text/plain": "<Figure size 1440x720 with 1 Axes>",
                  "image/png": "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\n"
                },
                "metadata": {}
              }
            ]
          }
        },
        "9ec5083a614c4e5486ec8318cc73f519": {
          "model_module": "@jupyter-widgets/base",
          "model_name": "LayoutModel",
          "model_module_version": "1.2.0",
          "state": {
            "_model_module": "@jupyter-widgets/base",
            "_model_module_version": "1.2.0",
            "_model_name": "LayoutModel",
            "_view_count": null,
            "_view_module": "@jupyter-widgets/base",
            "_view_module_version": "1.2.0",
            "_view_name": "LayoutView",
            "align_content": null,
            "align_items": null,
            "align_self": null,
            "border": null,
            "bottom": null,
            "display": null,
            "flex": null,
            "flex_flow": null,
            "grid_area": null,
            "grid_auto_columns": null,
            "grid_auto_flow": null,
            "grid_auto_rows": null,
            "grid_column": null,
            "grid_gap": null,
            "grid_row": null,
            "grid_template_areas": null,
            "grid_template_columns": null,
            "grid_template_rows": null,
            "height": null,
            "justify_content": null,
            "justify_items": null,
            "left": null,
            "margin": null,
            "max_height": null,
            "max_width": null,
            "min_height": null,
            "min_width": null,
            "object_fit": null,
            "object_position": null,
            "order": null,
            "overflow": null,
            "overflow_x": null,
            "overflow_y": null,
            "padding": null,
            "right": null,
            "top": null,
            "visibility": null,
            "width": null
          }
        },
        "4b09d14ea5054756a5d375d1a7681c28": {
          "model_module": "@jupyter-widgets/base",
          "model_name": "LayoutModel",
          "model_module_version": "1.2.0",
          "state": {
            "_model_module": "@jupyter-widgets/base",
            "_model_module_version": "1.2.0",
            "_model_name": "LayoutModel",
            "_view_count": null,
            "_view_module": "@jupyter-widgets/base",
            "_view_module_version": "1.2.0",
            "_view_name": "LayoutView",
            "align_content": null,
            "align_items": null,
            "align_self": null,
            "border": null,
            "bottom": null,
            "display": null,
            "flex": null,
            "flex_flow": null,
            "grid_area": null,
            "grid_auto_columns": null,
            "grid_auto_flow": null,
            "grid_auto_rows": null,
            "grid_column": null,
            "grid_gap": null,
            "grid_row": null,
            "grid_template_areas": null,
            "grid_template_columns": null,
            "grid_template_rows": null,
            "height": null,
            "justify_content": null,
            "justify_items": null,
            "left": null,
            "margin": null,
            "max_height": null,
            "max_width": null,
            "min_height": null,
            "min_width": null,
            "object_fit": null,
            "object_position": null,
            "order": null,
            "overflow": null,
            "overflow_x": null,
            "overflow_y": null,
            "padding": null,
            "right": null,
            "top": null,
            "visibility": null,
            "width": null
          }
        },
        "1fdb2ef1a311447abe55c06a784e310a": {
          "model_module": "@jupyter-widgets/controls",
          "model_name": "DescriptionStyleModel",
          "model_module_version": "1.5.0",
          "state": {
            "_model_module": "@jupyter-widgets/controls",
            "_model_module_version": "1.5.0",
            "_model_name": "DescriptionStyleModel",
            "_view_count": null,
            "_view_module": "@jupyter-widgets/base",
            "_view_module_version": "1.2.0",
            "_view_name": "StyleView",
            "description_width": ""
          }
        },
        "a361c41acc254ea7aae83b8a7b906620": {
          "model_module": "@jupyter-widgets/base",
          "model_name": "LayoutModel",
          "model_module_version": "1.2.0",
          "state": {
            "_model_module": "@jupyter-widgets/base",
            "_model_module_version": "1.2.0",
            "_model_name": "LayoutModel",
            "_view_count": null,
            "_view_module": "@jupyter-widgets/base",
            "_view_module_version": "1.2.0",
            "_view_name": "LayoutView",
            "align_content": null,
            "align_items": null,
            "align_self": null,
            "border": null,
            "bottom": null,
            "display": null,
            "flex": null,
            "flex_flow": null,
            "grid_area": null,
            "grid_auto_columns": null,
            "grid_auto_flow": null,
            "grid_auto_rows": null,
            "grid_column": null,
            "grid_gap": null,
            "grid_row": null,
            "grid_template_areas": null,
            "grid_template_columns": null,
            "grid_template_rows": null,
            "height": null,
            "justify_content": null,
            "justify_items": null,
            "left": null,
            "margin": null,
            "max_height": null,
            "max_width": null,
            "min_height": null,
            "min_width": null,
            "object_fit": null,
            "object_position": null,
            "order": null,
            "overflow": null,
            "overflow_x": null,
            "overflow_y": null,
            "padding": null,
            "right": null,
            "top": null,
            "visibility": null,
            "width": null
          }
        },
        "acb9868c7da34dc581067caab3251884": {
          "model_module": "@jupyter-widgets/controls",
          "model_name": "SliderStyleModel",
          "model_module_version": "1.5.0",
          "state": {
            "_model_module": "@jupyter-widgets/controls",
            "_model_module_version": "1.5.0",
            "_model_name": "SliderStyleModel",
            "_view_count": null,
            "_view_module": "@jupyter-widgets/base",
            "_view_module_version": "1.2.0",
            "_view_name": "StyleView",
            "description_width": "",
            "handle_color": null
          }
        },
        "3bee5cba21324ab8992ca63c0f0a303f": {
          "model_module": "@jupyter-widgets/base",
          "model_name": "LayoutModel",
          "model_module_version": "1.2.0",
          "state": {
            "_model_module": "@jupyter-widgets/base",
            "_model_module_version": "1.2.0",
            "_model_name": "LayoutModel",
            "_view_count": null,
            "_view_module": "@jupyter-widgets/base",
            "_view_module_version": "1.2.0",
            "_view_name": "LayoutView",
            "align_content": null,
            "align_items": null,
            "align_self": null,
            "border": null,
            "bottom": null,
            "display": null,
            "flex": null,
            "flex_flow": null,
            "grid_area": null,
            "grid_auto_columns": null,
            "grid_auto_flow": null,
            "grid_auto_rows": null,
            "grid_column": null,
            "grid_gap": null,
            "grid_row": null,
            "grid_template_areas": null,
            "grid_template_columns": null,
            "grid_template_rows": null,
            "height": null,
            "justify_content": null,
            "justify_items": null,
            "left": null,
            "margin": null,
            "max_height": null,
            "max_width": null,
            "min_height": null,
            "min_width": null,
            "object_fit": null,
            "object_position": null,
            "order": null,
            "overflow": null,
            "overflow_x": null,
            "overflow_y": null,
            "padding": null,
            "right": null,
            "top": null,
            "visibility": null,
            "width": null
          }
        }
      }
    }
  },
  "cells": [
    {
      "cell_type": "markdown",
      "metadata": {
        "id": "XFzvfWjK2y0H"
      },
      "source": [
        "# ***Pavement Layered Elastic Analysis*** \n",
        "3D layered elastic analysis for calculating stresses and starains in flexible pavements. Currently only works for fully bonded layers. This program is for instructional purposes only and may contain errors. For source code, visit [github/egemenokte](https://github.com/egemenokte/3DLayeredElastic).\n",
        "\n",
        "This program is built on top of PyMastic [github/Mostafa-Nakhaei](https://github.com/Mostafa-Nakhaei/PyMastic). It is parallelized to make operations faster. Please note that responses near the surface are not reliable.\n",
        "\n",
        "\n",
        "![Layered_elastic.jpg](data:image/jpeg;base64,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)\n",
        "\n",
        "Side note, for quasi-static analysis, if you have your modulus data, you can use \n",
        "\n",
        "freq(Hz)=0.2167\\*V\\*exp(-0.6398\\*ln(a)-0.3112\\*ln(z)+2.6780). \n",
        "\n",
        "V=vehicle speed (kmh), a=contact radius (cm), z=depth (cm). Adapted from [Ghanizadeh et-al]( https://www.sciencedirect.com/science/article/pii/S1996681416301468)"
      ]
    },
    {
      "cell_type": "markdown",
      "metadata": {
        "id": "EmmEFMiXBDce"
      },
      "source": [
        "# Step 0) First Things First! Mount your Colab to GitHUB\n",
        "\n",
        "*   You are given a GitHub repository (you can download and run yourself if you want)\n",
        "*   Please follow the instructions provided in this document to execute and analyze data\n",
        "*   Work your way sequentially, following the instructions above each cell.\n",
        "*   If you run into errors, restart runtime from the Runtime tab.\n",
        "\n",
        "\n",
        "\n",
        "\n",
        "\n",
        "\n",
        "\n",
        "\n"
      ]
    },
    {
      "cell_type": "code",
      "metadata": {
        "id": "XYCTiJFj8itQ",
        "colab": {
          "base_uri": "https://localhost:8080/"
        },
        "outputId": "521b5519-2b11-4f02-aff4-08a6ce973d0e"
      },
      "source": [
        "!git clone https://github.com/egemenokte/3DLayeredElastic.git\n",
        "%cd 3DLayeredElastic/Run\n",
        "\n",
        "#Import packages necessary for analysis\n",
        "import sys\n",
        "import os\n",
        "sys.path.append('..')\n",
        "from Main.MDA_Huang import Layer3D\n",
        "import numpy as np\n",
        "import pandas as pd\n",
        "import matplotlib.pyplot as plt\n",
        "import seaborn as sns\n",
        "from IPython.display import clear_output\n",
        "import ipywidgets as widgets\n",
        "from IPython.display import display\n",
        "from google.colab import files\n",
        "from ipywidgets import interact, interactive, fixed, interact_manual\n",
        "\n",
        "#Function for converting everything to a dataset\n",
        "def fewpoints(x,y,z,RSO,download):\n",
        "\n",
        "  columns=['x','y','z']+list(RSO.keys())\n",
        "  length=np.size(RSO[list(RSO.keys())[0]])\n",
        "  DF=pd.DataFrame(data=np.zeros([length,len(columns)]),columns=columns)\n",
        "  counter=0\n",
        "  for xx in range(len(x)):\n",
        "    for yy in range(len(y)):\n",
        "      for zz in range(len(z)):\n",
        "        DF.loc[counter,'x']=x[xx]\n",
        "        DF.loc[counter,'y']=y[yy]\n",
        "        DF.loc[counter,'z']=z[zz]\n",
        "        for col in columns[3:]:\n",
        "          mult=1\n",
        "          if col[:3]=='eps':\n",
        "            mult=10**6\n",
        "          DF.loc[counter,col]=RSO[col][yy,xx,zz]*mult\n",
        "        counter=counter+1\n",
        "  if download:\n",
        "    DF.to_excel(\"PLEA.xlsx\") \n",
        "    files.download('PLEA.xlsx')\n",
        "  return DF\n",
        "\n",
        "for i in range(10):\n",
        "    clear_output(wait=True)\n",
        "    print(\"All good, move to the next step\")"
      ],
      "execution_count": 1,
      "outputs": [
        {
          "output_type": "stream",
          "name": "stdout",
          "text": [
            "All good, move to the next step\n"
          ]
        }
      ]
    },
    {
      "cell_type": "markdown",
      "source": [
        "# Step 1) Run Layered Elastic Analysis for a few points\n",
        "You are given a structure with specific properties. You can change the modulus/thickness of different layers to see its impact on the design. Units have to be consistent, same with WinJulea. In this module only, strains are reported in microstrains"
      ],
      "metadata": {
        "id": "tD_lhweaAjXU"
      }
    },
    {
      "cell_type": "code",
      "source": [
        "## INPUTS, PLEASE USE CONSISTENT UNITS, SAME AS WIINJULEA\n",
        "## YOU CAN CHANGE THESE PARAMETERS IF NECESSARY, ################################\n",
        "E = np.array([500, 50, 10])*1000   # Layer Modulus (psi), [Top Layer, Second to top layer,...,Subgrade]\n",
        "H = [6, 18]                        # Layer Thicknesses (inch), [Top Layer, Second to top layer,...,nth layer]. Subgrade is not required and assumed semi-infinite\n",
        "nu = [0.35, 0.4, 0.45]             # Poissons ratio, [Top Layer, Second to top layer,...,Subgrade]\n",
        "L=[9000,9000]                      # Load Magnitudes (lbs)\n",
        "LPos=[(10,0),(20,0)]               # Load positions as (x,y) (inch)\n",
        "a = 4                              # Contact radius (inch)\n",
        "x = [10,15,20]                     # x query points for (inch) \n",
        "y=[0]                              # y query points (inch) \n",
        "z =[5.99]                          # z (depth) query points (inch)\n",
        "download=False                     #download results as an excel file? [True or False]\n",
        "\n",
        "'''Function Layer3D returns RS dictionary with keys\n",
        "\n",
        "'deflection_z', 'sigma_x', 'sigma_y', 'sigma_z', \n",
        "'sigma_xy', 'sigma_yz', 'sigma_xz', 'eps_x', \n",
        "'eps_y', 'eps_z', 'eps_xy','eps_yz', 'eps_xz'\n",
        "\n",
        "each contains the response (key) \n",
        "at coordinates (y,x,z) --> RS[key][y,x,z]\n",
        "\n",
        "'''\n",
        "###############################################################################\n",
        "\n",
        "##### Layered elastic analysis settings. Do not change unless slow or unstable\n",
        "ZRO=7*1e-20                 # definition of zero to avoid division by zero\n",
        "isBD=np.ones(len(E))        # assumes fully bonded\n",
        "it = 1600                   # maximum number of iterations\n",
        "tolerance=0.01             # average percent error of query points\n",
        "every=10                    # check for convergence every x steps\n",
        "#######\n",
        "print('Running Elastic Analysis...')\n",
        "RSO=Layer3D(L,LPos,a,x,y,z,H,E,nu,it,ZRO,isBD,tolerance,verbose=True,every=every)\n",
        "print('Done')\n",
        "\n",
        "## Save to a pandas dataset to display\n",
        "for i in range(10):\n",
        "    clear_output(wait=True)\n",
        "\n",
        "DF=fewpoints(x,y,z,RSO,download) #Save as a dataframe and then display\n",
        "DF"
      ],
      "metadata": {
        "colab": {
          "base_uri": "https://localhost:8080/",
          "height": 242
        },
        "id": "CEQ9Dn0BAwxX",
        "outputId": "3e02e750-9fbb-415c-e337-c7fe29e2417a"
      },
      "execution_count": 2,
      "outputs": [
        {
          "output_type": "execute_result",
          "data": {
            "text/plain": [
              "      x    y     z  deflection_z     sigma_x     sigma_y    sigma_z  \\\n",
              "0  10.0  0.0  5.99      0.026031 -145.258597 -185.898003  37.170729   \n",
              "1  15.0  0.0  5.99      0.026725 -113.304041 -183.441599  36.672261   \n",
              "2  20.0  0.0  5.99      0.026031 -145.258597 -185.898003  37.170729   \n",
              "\n",
              "       sigma_xy      sigma_yz  sigma_xz       eps_x       eps_y       eps_z  \\\n",
              "0 -4.976892e-15  7.162173e-16 -5.848358 -186.408101 -296.134499  306.151077   \n",
              "1 -4.294687e-15  1.019314e-15  0.000000 -123.869545 -313.240953  281.066471   \n",
              "2  0.000000e+00  0.000000e+00  5.848358 -186.408101 -296.134499  306.151077   \n",
              "\n",
              "         eps_xy        eps_yz     eps_xz  \n",
              "0 -2.687522e-14  3.867574e-15 -31.581136  \n",
              "1 -2.319131e-14  5.504295e-15   0.000000  \n",
              "2  0.000000e+00  0.000000e+00  31.581136  "
            ],
            "text/html": [
              "\n",
              "  <div id=\"df-514a8602-7bf4-4f76-a74e-c38b8f421c4a\">\n",
              "    <div class=\"colab-df-container\">\n",
              "      <div>\n",
              "<style scoped>\n",
              "    .dataframe tbody tr th:only-of-type {\n",
              "        vertical-align: middle;\n",
              "    }\n",
              "\n",
              "    .dataframe tbody tr th {\n",
              "        vertical-align: top;\n",
              "    }\n",
              "\n",
              "    .dataframe thead th {\n",
              "        text-align: right;\n",
              "    }\n",
              "</style>\n",
              "<table border=\"1\" class=\"dataframe\">\n",
              "  <thead>\n",
              "    <tr style=\"text-align: right;\">\n",
              "      <th></th>\n",
              "      <th>x</th>\n",
              "      <th>y</th>\n",
              "      <th>z</th>\n",
              "      <th>deflection_z</th>\n",
              "      <th>sigma_x</th>\n",
              "      <th>sigma_y</th>\n",
              "      <th>sigma_z</th>\n",
              "      <th>sigma_xy</th>\n",
              "      <th>sigma_yz</th>\n",
              "      <th>sigma_xz</th>\n",
              "      <th>eps_x</th>\n",
              "      <th>eps_y</th>\n",
              "      <th>eps_z</th>\n",
              "      <th>eps_xy</th>\n",
              "      <th>eps_yz</th>\n",
              "      <th>eps_xz</th>\n",
              "    </tr>\n",
              "  </thead>\n",
              "  <tbody>\n",
              "    <tr>\n",
              "      <th>0</th>\n",
              "      <td>10.0</td>\n",
              "      <td>0.0</td>\n",
              "      <td>5.99</td>\n",
              "      <td>0.026031</td>\n",
              "      <td>-145.258597</td>\n",
              "      <td>-185.898003</td>\n",
              "      <td>37.170729</td>\n",
              "      <td>-4.976892e-15</td>\n",
              "      <td>7.162173e-16</td>\n",
              "      <td>-5.848358</td>\n",
              "      <td>-186.408101</td>\n",
              "      <td>-296.134499</td>\n",
              "      <td>306.151077</td>\n",
              "      <td>-2.687522e-14</td>\n",
              "      <td>3.867574e-15</td>\n",
              "      <td>-31.581136</td>\n",
              "    </tr>\n",
              "    <tr>\n",
              "      <th>1</th>\n",
              "      <td>15.0</td>\n",
              "      <td>0.0</td>\n",
              "      <td>5.99</td>\n",
              "      <td>0.026725</td>\n",
              "      <td>-113.304041</td>\n",
              "      <td>-183.441599</td>\n",
              "      <td>36.672261</td>\n",
              "      <td>-4.294687e-15</td>\n",
              "      <td>1.019314e-15</td>\n",
              "      <td>0.000000</td>\n",
              "      <td>-123.869545</td>\n",
              "      <td>-313.240953</td>\n",
              "      <td>281.066471</td>\n",
              "      <td>-2.319131e-14</td>\n",
              "      <td>5.504295e-15</td>\n",
              "      <td>0.000000</td>\n",
              "    </tr>\n",
              "    <tr>\n",
              "      <th>2</th>\n",
              "      <td>20.0</td>\n",
              "      <td>0.0</td>\n",
              "      <td>5.99</td>\n",
              "      <td>0.026031</td>\n",
              "      <td>-145.258597</td>\n",
              "      <td>-185.898003</td>\n",
              "      <td>37.170729</td>\n",
              "      <td>0.000000e+00</td>\n",
              "      <td>0.000000e+00</td>\n",
              "      <td>5.848358</td>\n",
              "      <td>-186.408101</td>\n",
              "      <td>-296.134499</td>\n",
              "      <td>306.151077</td>\n",
              "      <td>0.000000e+00</td>\n",
              "      <td>0.000000e+00</td>\n",
              "      <td>31.581136</td>\n",
              "    </tr>\n",
              "  </tbody>\n",
              "</table>\n",
              "</div>\n",
              "      <button class=\"colab-df-convert\" onclick=\"convertToInteractive('df-514a8602-7bf4-4f76-a74e-c38b8f421c4a')\"\n",
              "              title=\"Convert this dataframe to an interactive table.\"\n",
              "              style=\"display:none;\">\n",
              "        \n",
              "  <svg xmlns=\"http://www.w3.org/2000/svg\" height=\"24px\"viewBox=\"0 0 24 24\"\n",
              "       width=\"24px\">\n",
              "    <path d=\"M0 0h24v24H0V0z\" fill=\"none\"/>\n",
              "    <path d=\"M18.56 5.44l.94 2.06.94-2.06 2.06-.94-2.06-.94-.94-2.06-.94 2.06-2.06.94zm-11 1L8.5 8.5l.94-2.06 2.06-.94-2.06-.94L8.5 2.5l-.94 2.06-2.06.94zm10 10l.94 2.06.94-2.06 2.06-.94-2.06-.94-.94-2.06-.94 2.06-2.06.94z\"/><path d=\"M17.41 7.96l-1.37-1.37c-.4-.4-.92-.59-1.43-.59-.52 0-1.04.2-1.43.59L10.3 9.45l-7.72 7.72c-.78.78-.78 2.05 0 2.83L4 21.41c.39.39.9.59 1.41.59.51 0 1.02-.2 1.41-.59l7.78-7.78 2.81-2.81c.8-.78.8-2.07 0-2.86zM5.41 20L4 18.59l7.72-7.72 1.47 1.35L5.41 20z\"/>\n",
              "  </svg>\n",
              "      </button>\n",
              "      \n",
              "  <style>\n",
              "    .colab-df-container {\n",
              "      display:flex;\n",
              "      flex-wrap:wrap;\n",
              "      gap: 12px;\n",
              "    }\n",
              "\n",
              "    .colab-df-convert {\n",
              "      background-color: #E8F0FE;\n",
              "      border: none;\n",
              "      border-radius: 50%;\n",
              "      cursor: pointer;\n",
              "      display: none;\n",
              "      fill: #1967D2;\n",
              "      height: 32px;\n",
              "      padding: 0 0 0 0;\n",
              "      width: 32px;\n",
              "    }\n",
              "\n",
              "    .colab-df-convert:hover {\n",
              "      background-color: #E2EBFA;\n",
              "      box-shadow: 0px 1px 2px rgba(60, 64, 67, 0.3), 0px 1px 3px 1px rgba(60, 64, 67, 0.15);\n",
              "      fill: #174EA6;\n",
              "    }\n",
              "\n",
              "    [theme=dark] .colab-df-convert {\n",
              "      background-color: #3B4455;\n",
              "      fill: #D2E3FC;\n",
              "    }\n",
              "\n",
              "    [theme=dark] .colab-df-convert:hover {\n",
              "      background-color: #434B5C;\n",
              "      box-shadow: 0px 1px 3px 1px rgba(0, 0, 0, 0.15);\n",
              "      filter: drop-shadow(0px 1px 2px rgba(0, 0, 0, 0.3));\n",
              "      fill: #FFFFFF;\n",
              "    }\n",
              "  </style>\n",
              "\n",
              "      <script>\n",
              "        const buttonEl =\n",
              "          document.querySelector('#df-514a8602-7bf4-4f76-a74e-c38b8f421c4a button.colab-df-convert');\n",
              "        buttonEl.style.display =\n",
              "          google.colab.kernel.accessAllowed ? 'block' : 'none';\n",
              "\n",
              "        async function convertToInteractive(key) {\n",
              "          const element = document.querySelector('#df-514a8602-7bf4-4f76-a74e-c38b8f421c4a');\n",
              "          const dataTable =\n",
              "            await google.colab.kernel.invokeFunction('convertToInteractive',\n",
              "                                                     [key], {});\n",
              "          if (!dataTable) return;\n",
              "\n",
              "          const docLinkHtml = 'Like what you see? Visit the ' +\n",
              "            '<a target=\"_blank\" href=https://colab.research.google.com/notebooks/data_table.ipynb>data table notebook</a>'\n",
              "            + ' to learn more about interactive tables.';\n",
              "          element.innerHTML = '';\n",
              "          dataTable['output_type'] = 'display_data';\n",
              "          await google.colab.output.renderOutput(dataTable, element);\n",
              "          const docLink = document.createElement('div');\n",
              "          docLink.innerHTML = docLinkHtml;\n",
              "          element.appendChild(docLink);\n",
              "        }\n",
              "      </script>\n",
              "    </div>\n",
              "  </div>\n",
              "  "
            ]
          },
          "metadata": {},
          "execution_count": 2
        }
      ]
    },
    {
      "cell_type": "markdown",
      "source": [
        "# Step 2) Run Layered Elastic Analysis for Visualization\n",
        "We can also run this analysis on a grid to visualize outputs bette by changing the z and x values to an array"
      ],
      "metadata": {
        "id": "-DXJCMRfdIUY"
      }
    },
    {
      "cell_type": "code",
      "metadata": {
        "id": "ZZSYzwZd9iwd",
        "colab": {
          "base_uri": "https://localhost:8080/"
        },
        "outputId": "f8f0fd53-e7df-4072-8a97-cff997722949"
      },
      "source": [
        "## YOU CAN CHANGE THESE PARAMETERS IF NECESSARY################################\n",
        "E = np.array([500, 50, 10])*1000   # Layer Modulus (psi), [Top Layer, Second to top layer,...,Subgrade]\n",
        "H = [6, 18]                        # Layer Thicknesses (inch), [Top Layer, Second to top layer,...,nth layer]. Subgrade is not required and assumed semi-infinite\n",
        "nu = [0.35, 0.4, 0.45]             # Poissons ratio, [Top Layer, Second to top layer,...,Subgrade]\n",
        "L=[9000,9000]                      # Load Magnitudes (lbs)\n",
        "LPos=[(10,0),(20,0)]               # Load positions as (x,y) (inch)\n",
        "a = 4                              # Contact radius (inch)\n",
        "x = np.arange(0,30,1)              # x query points for (inch) \n",
        "y=[0]                              # y query points (inch) \n",
        "z =np.arange(0,30,1)               # z (depth) query points (inch)\n",
        "###############################################################################\n",
        "\n",
        "############################ DO NOT CHANGE BELOW THIS LINE#####################\n",
        "## Layered elastic analysis settings. Do not change unless slow or unstable\n",
        "ZRO=7*1e-20\n",
        "isBD=np.ones(len(E))\n",
        "it = 1600            # number of maximum iterations\n",
        "tolerance=0.01       # average percent error of query points\n",
        "every=100            # check for convergence every x steps\n",
        "print('Running Elastic Analysis...')\n",
        "RS=Layer3D(L,LPos,a,x,y,z,H,E,nu,it,ZRO,isBD,tolerance,verbose=True,every=every)\n",
        "print('Done')\n",
        "sns.set(rc={'figure.figsize':(20,10)},font_scale=1.15)"
      ],
      "execution_count": 3,
      "outputs": [
        {
          "output_type": "stream",
          "name": "stdout",
          "text": [
            "Running Elastic Analysis...\n",
            "Load  1 / 2\n",
            "iteration 200  error: 0.3045 %\n",
            "iteration 300  error: 0.0126 %\n",
            "iteration 400  error: 0.0151 %\n",
            "iteration 500  error: 0.0026 %\n",
            "Load  2 / 2\n",
            "iteration 200  error: 0.4217 %\n",
            "iteration 300  error: 0.0214 %\n",
            "iteration 400  error: 0.0159 %\n",
            "iteration 500  error: 0.006 %\n",
            "Done\n"
          ]
        }
      ]
    },
    {
      "cell_type": "markdown",
      "metadata": {
        "id": "wmU7-1DHB2Y5"
      },
      "source": [
        "# Step 3) Heatmaps\n",
        "Let's see the results by plotting them as a heatmap at first y index. You can manually change the response to change which response to plot. Please use keys or column names as reference\n"
      ]
    },
    {
      "cell_type": "code",
      "metadata": {
        "id": "QneZYlEF8J--",
        "colab": {
          "base_uri": "https://localhost:8080/",
          "height": 0
        },
        "outputId": "a2e2125d-2016-42de-d368-52f2a827a44d"
      },
      "source": [
        "sns.set(rc={'figure.figsize':(20,10)},font_scale=1.15)\n",
        "z=np.array(z)\n",
        "plt.close('all')\n",
        "\n",
        "plt.figure()\n",
        "response='eps_z' \n",
        "A=np.transpose(RS[response][0,:,:])*10**6\n",
        "sns.heatmap(A,xticklabels=x,yticklabels=-z,cbar_kws={'label': '$\\mu\\epsilon$'}) #positive is compression\n",
        "plt.xlabel('x')\n",
        "plt.ylabel('z')\n",
        "plt.title(response)\n",
        "\n",
        "plt.figure()\n",
        "response='eps_y' \n",
        "A=np.transpose(RS[response][0,:,:])*10**6\n",
        "sns.heatmap(A,xticklabels=x,yticklabels=-z,cbar_kws={'label': '$\\mu\\epsilon$'})\n",
        "plt.xlabel('x')\n",
        "plt.ylabel('z')\n",
        "plt.title(response)\n",
        "\n",
        "plt.figure()\n",
        "response='sigma_z' \n",
        "A=np.transpose(RS[response][0,:,:])\n",
        "sns.heatmap(A,xticklabels=x,yticklabels=-z,cbar_kws={'label': 'Stress (psi)'})\n",
        "plt.xlabel('x')\n",
        "plt.ylabel('z')\n",
        "plt.title(response)\n",
        "\n",
        "#To plot deflections. \n",
        "\n",
        "#fig, ax = plt.subplots(figsize=(10, 8))\n",
        "#response='deflection_z' \n",
        "#mag=50\n",
        "#X,Z=np.meshgrid(x,z)\n",
        "#A=np.transpose(RS[response][0,:,:])*mag\n",
        "# A=RS['sigma_z'][0,:,:]\n",
        "#ax.scatter(X.flatten(),-Z.flatten(),s=0.5)\n",
        "#ax.scatter(X.flatten(),-Z.flatten()-A.flatten())\n",
        "#ax.set_xticks(x)\n",
        "#ax.set_yticks(-z)\n",
        "#plt.title('Deformation field magnified '+str(mag)+' times')\n",
        "#plt.xlabel('x')\n",
        "#plt.ylabel('z')\n",
        "# plt.grid()\n",
        "\n",
        "#ax.quiver(X,-Z,-A*0,-A,-A, scale_units='xy', scale=1.)"
      ],
      "execution_count": 5,
      "outputs": [
        {
          "output_type": "execute_result",
          "data": {
            "text/plain": [
              "Text(0.5, 1.0, 'sigma_z')"
            ]
          },
          "metadata": {},
          "execution_count": 5
        },
        {
          "output_type": "display_data",
          "data": {
            "text/plain": [
              "<Figure size 1440x720 with 2 Axes>"
            ],
            "image/png": "[encoded data removed]"
          },
          "metadata": {}
        },
        {
          "output_type": "display_data",
          "data": {
            "text/plain": [
              "<Figure size 1440x720 with 2 Axes>"
            ],
            "image/png": "[encoded data removed]"
          },
          "metadata": {}
        },
        {
          "output_type": "display_data",
          "data": {
            "text/plain": [
              "<Figure size 1440x720 with 2 Axes>"
            ],
            "image/png": "[encoded data removed]"
          },
          "metadata": {}
        }
      ]
    },
    {
      "cell_type": "markdown",
      "metadata": {
        "id": "NQQjg5UsUlRf"
      },
      "source": [
        "# Step 4) Plotting with respect to depth at a given x \n",
        "Plotting with respect to depth for a given x. You can change the interactive dialogs to plot different responses. Please use keys or column names for reference. For instance, use 'eps_z' for compressive vertical strain"
      ]
    },
    {
      "cell_type": "code",
      "metadata": {
        "id": "S5NVc90-B9Px",
        "colab": {
          "base_uri": "https://localhost:8080/",
          "height": 681,
          "referenced_widgets": [
            "95fc6a381d214b94892bd450e8812e1e",
            "c7a86d935a23488d8e01d31599b03e3f",
            "1bc5607a929842b7a40141e2a918d6a8",
            "bd73c03e40aa48d2b07ad3cb9af7e544",
            "edc2c166b81f4743b778fdcc8f76ff4d",
            "fdc62b8878e34e278597b7aebba4cd37",
            "0c9671840ceb465abf266c4d512c5e7b",
            "aaab47a4e603446781c93a850f75415a",
            "9a9739ddcb64440fbefdb07be61470f0",
            "8649daa325a8454f99a63fdc7f78e1c8"
          ]
        },
        "outputId": "177b2109-a30f-4be4-bdf4-da59a61ba207"
      },
      "source": [
        "idx=(np.abs(np.array(x) - LPos[0][0])).argmin() #index under the load by default\n",
        "response='sigma_z' #default\n",
        "@interact(xx=widgets.IntSlider(min=0, max=len(x)-1, step=1, value=idx), response='sigma_z')\n",
        "def plotx(response=response,xx=0):\n",
        "  response=response\n",
        "  A=np.transpose(RS[response][0,:,:])\n",
        "  idx=xx\n",
        "  sns.scatterplot(x=A[:,idx],y=-z,s=70) #plot the idx x element from left\n",
        "  plt.xlabel('response (response units)')\n",
        "  plt.ylabel('z')\n",
        "  plt.title(response+' ind='+str(idx)+', x='+str(x[idx]))"
      ],
      "execution_count": 4,
      "outputs": [
        {
          "output_type": "display_data",
          "data": {
            "text/plain": [
              "interactive(children=(Text(value='sigma_z', description='response'), IntSlider(value=10, description='xx', max…"
            ],
            "application/vnd.jupyter.widget-view+json": {
              "version_major": 2,
              "version_minor": 0,
              "model_id": "95fc6a381d214b94892bd450e8812e1e"
            }
          },
          "metadata": {}
        }
      ]
    },
    {
      "cell_type": "markdown",
      "source": [
        "# Step 5) Plotting with respect to x at a given depth\n",
        "Plotting with respect to x for a given depth. You can change the interactive dialogs to plot different responses. Please use keys or column names for reference. For instance, use 'eps_z' for compressive vertical strain"
      ],
      "metadata": {
        "id": "Er8cEsqOBt-i"
      }
    },
    {
      "cell_type": "code",
      "source": [
        "response='sigma_z' #default\n",
        "@interact(depth=widgets.IntSlider(min=0, max=len(z)-1, step=1, value=3), response='sigma_z')\n",
        "def plotz(response=response,depth=0):\n",
        "  response=response\n",
        "  depthindex = depth \n",
        "  #depthindex=6 #how deep do we want to go?\n",
        "  A=np.transpose(RS[response][0,:,:])\n",
        "\n",
        "  sns.scatterplot(y=A[depthindex,:],x=x,s=70) #plot the idx x element from left\n",
        "  plt.xlabel('x')\n",
        "  plt.ylabel('response (response units)')\n",
        "  plt.title(response+' at z ='+str(z[depth]))\n"
      ],
      "metadata": {
        "colab": {
          "base_uri": "https://localhost:8080/",
          "height": 0,
          "referenced_widgets": [
            "1bffdc4909d84b92bcf96b745fa9a3a4",
            "62ebdef9246444299f98c179d16008ca",
            "d1bacb760369448594f546041ef632a4",
            "e203ffb0ca2845b2b5492564cd09a03f",
            "9ec5083a614c4e5486ec8318cc73f519",
            "4b09d14ea5054756a5d375d1a7681c28",
            "1fdb2ef1a311447abe55c06a784e310a",
            "a361c41acc254ea7aae83b8a7b906620",
            "acb9868c7da34dc581067caab3251884",
            "3bee5cba21324ab8992ca63c0f0a303f"
          ]
        },
        "id": "txCypWyzByaF",
        "outputId": "3679883c-8819-41d1-f7e6-1d0894e7bb4a"
      },
      "execution_count": 6,
      "outputs": [
        {
          "output_type": "display_data",
          "data": {
            "text/plain": [
              "interactive(children=(Text(value='sigma_z', description='response'), IntSlider(value=3, description='depth', m…"
            ],
            "application/vnd.jupyter.widget-view+json": {
              "version_major": 2,
              "version_minor": 0,
              "model_id": "1bffdc4909d84b92bcf96b745fa9a3a4"
            }
          },
          "metadata": {}
        }
      ]
    },
    {
      "cell_type": "markdown",
      "source": [
        "# Step 6) Comparing Different Structures\n",
        "We can compare different structures by running additional analysis and keeping the previous one as baseline"
      ],
      "metadata": {
        "id": "_zJz8rewCDk8"
      }
    },
    {
      "cell_type": "code",
      "source": [
        "## YOU CAN CHANGE THESE PARAMETERS IF NECESSARY################################\n",
        "E = np.array([500, 50, 10])*1000   # Layer Modulus (psi), [Top Layer, Second to top layer,...,Subgrade]\n",
        "H = [2, 18]                         # Layer Thicknesses (inch), [Top Layer, Second to top layer,...,nth layer]. Subgrade is not required and assumed semi-infinite\n",
        "nu = [0.35, 0.4, 0.45]             # Poissons ratio, [Top Layer, Second to top layer,...,Subgrade]\n",
        "L=[9000,9000]                      # Load Magnitudes (lbs)\n",
        "LPos=[(10,0),(20,0)]               # Load positions as (x,y) (inch)\n",
        "a = 4                              # Contact radius (inch)\n",
        "x = x                              # keep the same with the previous structrue! x query points for (inch) \n",
        "y = y                              # keep the same with the previous structrue! y query points (inch) \n",
        "z = z                              # keep the same with the previous structrue! z (depth) query points (inch)\n",
        "###############################################################################\n",
        "print('Running Elastic Analysis...')\n",
        "RS2=Layer3D(L,LPos,a,x,y,z,H,E,nu,it,ZRO,np.ones(len(E)),tolerance,verbose=True)\n",
        "print('Done')"
      ],
      "metadata": {
        "colab": {
          "base_uri": "https://localhost:8080/"
        },
        "id": "Up0GobF-CUCZ",
        "outputId": "243edf64-d075-4ae2-eac1-78bcf8d255a3"
      },
      "execution_count": 7,
      "outputs": [
        {
          "output_type": "stream",
          "name": "stdout",
          "text": [
            "Running Elastic Analysis...\n",
            "Load  1 / 2\n",
            "iteration 200  error: 0.7867 %\n",
            "iteration 300  error: 0.0213 %\n",
            "iteration 400  error: 0.0151 %\n",
            "iteration 500  error: 0.0022 %\n",
            "Load  2 / 2\n",
            "iteration 200  error: 1.1313 %\n",
            "iteration 300  error: 0.0396 %\n",
            "iteration 400  error: 0.0169 %\n",
            "iteration 500  error: 0.0056 %\n",
            "Done\n"
          ]
        }
      ]
    },
    {
      "cell_type": "markdown",
      "source": [
        "Plotting with respect to depth for a given x. You can change the response to plot different responses. Please use keys or column names for reference. For instance, use 'eps_z' for compressive vertical strain"
      ],
      "metadata": {
        "id": "pqjPpe6ApyUV"
      }
    },
    {
      "cell_type": "code",
      "source": [
        "response='sigma_z' \n",
        "A=np.transpose(RS[response][0,:,:])\n",
        "B=np.transpose(RS2[response][0,:,:])\n",
        "# A=RS['sigma_z'][0,:,:]\n",
        "idx = (np.abs(np.array(x) - LPos[0][0])).argmin() #index under the load\n",
        "sns.scatterplot(x=A[:,idx],y=-z,s=70,label='Baseline') #plot the idx x element from left\n",
        "sns.scatterplot(x=B[:,idx],y=-z,s=70,label='New') #plot the idx x element from left\n",
        "plt.xlabel('response (response units)')\n",
        "plt.ylabel('z')\n",
        "plt.title(response+' ind='+str(idx)+', x='+str(x[idx]))\n",
        "plt.legend()"
      ],
      "metadata": {
        "colab": {
          "base_uri": "https://localhost:8080/",
          "height": 635
        },
        "id": "n58G-I2WCrRK",
        "outputId": "4b95b0e6-0709-41d1-8dbb-824922e4e77a"
      },
      "execution_count": 8,
      "outputs": [
        {
          "output_type": "execute_result",
          "data": {
            "text/plain": [
              "<matplotlib.legend.Legend at 0x7f12d0db12e0>"
            ]
          },
          "metadata": {},
          "execution_count": 8
        },
        {
          "output_type": "display_data",
          "data": {
            "text/plain": [
              "<Figure size 1440x720 with 1 Axes>"
            ],
            "image/png": "[encoded data removed]"
          },
          "metadata": {}
        }
      ]
    }
  ]
}